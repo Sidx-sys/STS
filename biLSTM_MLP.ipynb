{
 "cells": [
  {
   "cell_type": "code",
   "execution_count": 1,
   "metadata": {},
   "outputs": [],
   "source": [
    "import torch\n",
    "import torch.nn as nn\n",
    "\n",
    "from torchtext.data.utils import get_tokenizer\n",
    "from torchtext.vocab import vocab\n",
    "from torch.nn.utils.rnn import pad_sequence\n",
    "from torch.utils.data import DataLoader\n",
    "\n",
    "import numpy as np\n",
    "\n",
    "import random\n",
    "import math\n",
    "import time\n",
    "import pickle\n",
    "import re\n",
    "from collections import Counter\n",
    "import scipy"
   ]
  },
  {
   "cell_type": "code",
   "execution_count": 2,
   "metadata": {},
   "outputs": [
    {
     "name": "stdout",
     "output_type": "stream",
     "text": [
      "60265 8000\n"
     ]
    }
   ],
   "source": [
    "with open('data/base_text_data.pkl', 'rb') as f:\n",
    "    train_data = pickle.load(f)\n",
    "with open('data/Multi-30k/train.en') as f:\n",
    "    data = [x.strip() for x in f.readlines()]\n",
    "dev_data = data[-8000:]\n",
    "print(len(train_data), len(dev_data))"
   ]
  },
  {
   "cell_type": "code",
   "execution_count": 3,
   "metadata": {},
   "outputs": [],
   "source": [
    "punctuations = [r'\\.', r'\\.{2,}',\n",
    "                             r'\\!+', r'\\:+', r'\\;+', r'\\\"+', r\"\\'+\", r'\\?+', r'\\,+', r'\\(|\\)|\\[|\\]|\\{|\\}|\\<|\\>']\n",
    "def clean(line):\n",
    "    for pattern in punctuations:\n",
    "        line = re.sub(pattern, '', line)\n",
    "    line = re.sub(r'[^a-z]', ' ', line.lower())\n",
    "    return line\n",
    "\n",
    "for i, dat in enumerate(train_data):\n",
    "    train_data[i] = clean(dat)\n",
    "    \n",
    "for i, dat in enumerate(dev_data):\n",
    "    dev_data[i] = clean(dat)"
   ]
  },
  {
   "cell_type": "code",
   "execution_count": 4,
   "metadata": {},
   "outputs": [],
   "source": [
    "tokenizer = get_tokenizer('spacy', language='en_core_web_sm')"
   ]
  },
  {
   "cell_type": "code",
   "execution_count": 5,
   "metadata": {},
   "outputs": [],
   "source": [
    "def build_vocab(data, tokenizer):\n",
    "    counter = Counter()\n",
    "    for sent in data:\n",
    "        counter.update(tokenizer(sent))\n",
    "\n",
    "    vocab_obj = vocab(counter, specials=['<unk>', '<pad>', '<bos>', '<eos>'])\n",
    "    vocab_obj.set_default_index(vocab_obj['<unk>'])\n",
    "\n",
    "    return vocab_obj"
   ]
  },
  {
   "cell_type": "code",
   "execution_count": 6,
   "metadata": {},
   "outputs": [],
   "source": [
    "vocabulary = build_vocab(train_data, tokenizer)"
   ]
  },
  {
   "cell_type": "code",
   "execution_count": 7,
   "metadata": {},
   "outputs": [],
   "source": [
    "def data_process(data):\n",
    "    _data = []\n",
    "    for raw in data:\n",
    "        tokens = tokenizer(raw)\n",
    "        inp_tensor = torch.tensor([vocabulary[token] for token in tokens[:-1]], dtype=torch.long)\n",
    "        trg_tensor = torch.tensor([vocabulary[token] for token in tokens[1:]], dtype=torch.long)\n",
    "        _data.append((inp_tensor, trg_tensor))\n",
    "\n",
    "    return _data"
   ]
  },
  {
   "cell_type": "code",
   "execution_count": 8,
   "metadata": {},
   "outputs": [],
   "source": [
    "tok_train_data = data_process(train_data)\n",
    "tok_dev_data = data_process(dev_data)"
   ]
  },
  {
   "cell_type": "code",
   "execution_count": 7,
   "metadata": {},
   "outputs": [
    {
     "data": {
      "text/plain": [
       "device(type='cuda')"
      ]
     },
     "execution_count": 7,
     "metadata": {},
     "output_type": "execute_result"
    }
   ],
   "source": [
    "device = torch.device('cuda' if torch.cuda.is_available() else 'cpu')\n",
    "device"
   ]
  },
  {
   "cell_type": "code",
   "execution_count": 8,
   "metadata": {},
   "outputs": [],
   "source": [
    "BATCH_SIZE = 32\n",
    "PAD_IDX = vocabulary['<pad>']\n",
    "BOS_IDX = vocabulary['<bos>']\n",
    "EOS_IDX = vocabulary['<eos>']"
   ]
  },
  {
   "cell_type": "code",
   "execution_count": 11,
   "metadata": {},
   "outputs": [],
   "source": [
    "def generate_batch(data_batch):\n",
    "    src_batch, trg_batch = [], []\n",
    "    for (src_item, trg_item) in data_batch:\n",
    "        src_batch.append(torch.cat([torch.tensor([BOS_IDX]), src_item, torch.tensor([EOS_IDX])], dim=0))\n",
    "        trg_batch.append(torch.cat([torch.tensor([BOS_IDX]), trg_item, torch.tensor([EOS_IDX])], dim=0))\n",
    "    src_batch = pad_sequence(src_batch, padding_value=PAD_IDX)\n",
    "    trg_batch = pad_sequence(trg_batch, padding_value=PAD_IDX)\n",
    "\n",
    "    return src_batch, trg_batch"
   ]
  },
  {
   "cell_type": "code",
   "execution_count": 12,
   "metadata": {},
   "outputs": [],
   "source": [
    "train_dataloader = DataLoader(tok_train_data, batch_size=BATCH_SIZE, shuffle=True, collate_fn=generate_batch, drop_last=True)\n",
    "dev_dataloader = DataLoader(tok_dev_data, batch_size=BATCH_SIZE, shuffle=True, collate_fn=generate_batch, drop_last=True)"
   ]
  },
  {
   "cell_type": "code",
   "execution_count": 32,
   "metadata": {},
   "outputs": [],
   "source": [
    "class EncoderModel(nn.Module):\n",
    "    def __init__(self, vocab_len, device, dropout_prob=0.2, bidirectional=True):\n",
    "        super(EncoderModel, self).__init__()\n",
    "        self.rnn_size = 512\n",
    "        self.embedding_dim = 128\n",
    "        self.num_layers = 2\n",
    "        self.num_directions = 2 if bidirectional else 1\n",
    "        self.device = device\n",
    "\n",
    "        self.embedding = nn.Embedding(\n",
    "            num_embeddings = vocab_len,\n",
    "            embedding_dim = self.embedding_dim,\n",
    "        )\n",
    "        self.rnn = nn.GRU(\n",
    "            input_size = self.embedding_dim,\n",
    "            hidden_size = self.rnn_size,\n",
    "            num_layers = self.num_layers,\n",
    "            bidirectional=bidirectional,\n",
    "            dropout = dropout_prob\n",
    "        )\n",
    "        self.dropout = nn.Dropout(dropout_prob)\n",
    "        self.fc = nn.Linear(self.num_directions * self.rnn_size, vocab_len)\n",
    "\n",
    "    def forward(self, x):\n",
    "        batch_size = x.shape[1]\n",
    "        hidden_state = self.init_state(batch_size)\n",
    "        \n",
    "        embed = self.embedding(x)\n",
    "        output, state = self.rnn(embed, hidden_state)\n",
    "        output = self.dropout(output)\n",
    "        logits = self.fc(output)\n",
    "        return logits, state\n",
    "\n",
    "    def init_state(self, batch_size):\n",
    "        return torch.zeros(self.num_directions * self.num_layers, batch_size, self.rnn_size).to(self.device)"
   ]
  },
  {
   "cell_type": "code",
   "execution_count": 11,
   "metadata": {},
   "outputs": [],
   "source": [
    "model = EncoderModel(len(vocabulary), device=device)\n",
    "model = model.to(device)"
   ]
  },
  {
   "cell_type": "code",
   "execution_count": 33,
   "metadata": {},
   "outputs": [
    {
     "name": "stdout",
     "output_type": "stream",
     "text": [
      "EncoderModel(\n",
      "  (embedding): Embedding(27494, 128)\n",
      "  (rnn): GRU(128, 512, num_layers=2, dropout=0.2, bidirectional=True)\n",
      "  (dropout): Dropout(p=0.2, inplace=False)\n",
      "  (fc): Linear(in_features=1024, out_features=27494, bias=True)\n",
      ")\n"
     ]
    }
   ],
   "source": [
    "with open('biGRU_5ep.pkl', 'rb') as f:\n",
    "    model = pickle.load(f)\n",
    "print(model)\n",
    "model = model.to(device)"
   ]
  },
  {
   "cell_type": "code",
   "execution_count": 34,
   "metadata": {},
   "outputs": [],
   "source": [
    "def train_evaluate(model, num_epochs=3):\n",
    "    loss_fn = nn.CrossEntropyLoss(ignore_index=PAD_IDX)\n",
    "    optimizer = torch.optim.Adam(model.parameters(), lr=1e-3)\n",
    "\n",
    "    for epoch in range(num_epochs):\n",
    "        # Training\n",
    "        model.train()\n",
    "        print(f\"Epoch: {epoch}\")\n",
    "        loss_val = 0 \n",
    "        for x, y in train_dataloader:\n",
    "            x = x.to(device)\n",
    "            y = y.to(device)\n",
    "            \n",
    "            optimizer.zero_grad()\n",
    "\n",
    "            pred, state_h = model(x)\n",
    "            loss = loss_fn(pred.transpose(1, 2), y)\n",
    "\n",
    "            loss.backward()\n",
    "            optimizer.step()\n",
    "            \n",
    "            loss_val += loss.item()\n",
    "        print(f\"Train Loss: {loss_val/len(train_dataloader)}, Train PPL: {2**(loss_val/len(train_dataloader))}\")\n",
    "\n",
    "        # Validation\n",
    "        model.train()\n",
    "        with torch.no_grad():\n",
    "            loss_val = 0 \n",
    "            for x, y in dev_dataloader:\n",
    "                x = x.to(device)\n",
    "                y = y.to(device)\n",
    "                optimizer.zero_grad()\n",
    "\n",
    "                pred, state_h = model(x)\n",
    "                loss = loss_fn(pred.transpose(1, 2), y)\n",
    "                \n",
    "                loss_val += loss.item()\n",
    "            print(f\"Dev Loss: {loss_val/len(dev_dataloader)}, Dev PPL: {2**(loss_val/len(dev_dataloader))}\")"
   ]
  },
  {
   "cell_type": "code",
   "execution_count": 46,
   "metadata": {},
   "outputs": [
    {
     "name": "stdout",
     "output_type": "stream",
     "text": [
      "Epoch: 0\n",
      "Train Loss: 0.4423317674149779, Train PPL: 1.3587987229344551\n",
      "Dev Loss: 0.6440360325574875, Dev PPL: 1.562694789512324\n"
     ]
    }
   ],
   "source": [
    "train_evaluate(model, num_epochs=1)"
   ]
  },
  {
   "cell_type": "markdown",
   "metadata": {},
   "source": [
    "- Take a training dataset (SICK 2014 training) and finetune the MLP\n",
    "- Or do something with the CNN output, if you dont want to mean over the layers (use MSE as final loss prolly)"
   ]
  },
  {
   "cell_type": "code",
   "execution_count": 35,
   "metadata": {},
   "outputs": [],
   "source": [
    "class ScoringHead(nn.Module):\n",
    "    def __init__(self, encoder_model, dropout_prob=0.2,):\n",
    "        super(ScoringHead, self).__init__()\n",
    "        self.encoder_model = encoder_model\n",
    "        \n",
    "        self.input_dim = 2 * self.encoder_model.rnn_size   # [2 * rnn_size = 1024]\n",
    "        self.hidden_dim_1 = self.input_dim // 2        # [512]\n",
    "        self.hidden_dim_2 = self.hidden_dim_1 // 2     # [256]\n",
    "        self.hidden_dim_3 = self.hidden_dim_2 // 4     # [64]\n",
    "        self.hidden_dim_4 = self.hidden_dim_3 // 4     # [16]\n",
    "        self.hidden_dim_5 = 1\n",
    "\n",
    "        self.linear_relu_stack = nn.Sequential(\n",
    "            nn.Linear(self.input_dim, self.hidden_dim_1),\n",
    "            nn.ReLU(),\n",
    "            nn.Linear(self.hidden_dim_1, self.hidden_dim_2),\n",
    "            nn.ReLU(),\n",
    "            nn.Linear(self.hidden_dim_2, self.hidden_dim_3),\n",
    "            nn.ReLU(),\n",
    "            nn.Linear(self.hidden_dim_3, self.hidden_dim_4),\n",
    "            nn.ReLU(),\n",
    "            nn.Linear(self.hidden_dim_4, self.hidden_dim_5)\n",
    "        )\n",
    "\n",
    "    def forward(self, x1, x2):\n",
    "        _, h1 = model(x1)\n",
    "        _, h2 = model(x2)\n",
    "        x1 = torch.mean(h1, dim=0)\n",
    "        x2 = torch.mean(h2, dim=0)\n",
    "        x = torch.cat((x1, x2), dim=1)\n",
    "        out = self.linear_relu_stack(x)\n",
    "        return out # shape -> [batch_size, 1]"
   ]
  },
  {
   "cell_type": "code",
   "execution_count": 36,
   "metadata": {},
   "outputs": [],
   "source": [
    "with open('data/train_data.pkl', 'rb') as f:\n",
    "    scoring_training_data = pickle.load(f)"
   ]
  },
  {
   "cell_type": "code",
   "execution_count": 37,
   "metadata": {},
   "outputs": [],
   "source": [
    "def data_process_ft(data, label):\n",
    "    _data = []\n",
    "    for raw, lbl in zip(data, label):\n",
    "        tokens_1 = tokenizer(raw[0])\n",
    "        tokens_2 = tokenizer(raw[1])\n",
    "        tensor_1 = torch.tensor([vocabulary[token] for token in tokens_1], dtype=torch.long)\n",
    "        tensor_2 = torch.tensor([vocabulary[token] for token in tokens_2], dtype=torch.long)\n",
    "        lbl_tensor = torch.tensor(lbl, dtype=torch.float)\n",
    "        _data.append((tensor_1, tensor_2, lbl_tensor))\n",
    "\n",
    "    return _data"
   ]
  },
  {
   "cell_type": "code",
   "execution_count": 38,
   "metadata": {},
   "outputs": [],
   "source": [
    "def generate_batch_ft(data_batch):\n",
    "    l_batch, r_batch, y = [], [], []\n",
    "    for (item_1, item_2, label) in data_batch:\n",
    "        l_batch.append(torch.cat([torch.tensor([BOS_IDX]), item_1, torch.tensor([EOS_IDX])], dim=0))\n",
    "        r_batch.append(torch.cat([torch.tensor([BOS_IDX]), item_2, torch.tensor([EOS_IDX])], dim=0))\n",
    "        y.append(label)\n",
    "    l_batch = pad_sequence(l_batch, padding_value=PAD_IDX)\n",
    "    r_batch = pad_sequence(r_batch, padding_value=PAD_IDX)\n",
    "    y = torch.tensor(y, dtype=torch.float)\n",
    "\n",
    "    return l_batch, r_batch, y"
   ]
  },
  {
   "cell_type": "code",
   "execution_count": 39,
   "metadata": {},
   "outputs": [
    {
     "data": {
      "text/plain": [
       "['A woman who is taking off a pink boa is stopping her bicycle on a bridge built for pedestrians',\n",
       " 'A woman who is wearing a pink boa is riding a bicycle down a bridge built for pedestrians']"
      ]
     },
     "execution_count": 39,
     "metadata": {},
     "output_type": "execute_result"
    }
   ],
   "source": [
    "ft_x = scoring_training_data['x']\n",
    "ft_y = scoring_training_data['y']\n",
    "ft_x[0]"
   ]
  },
  {
   "cell_type": "code",
   "execution_count": 40,
   "metadata": {},
   "outputs": [],
   "source": [
    "tok_ft_data = data_process_ft(ft_x, ft_y)\n",
    "ft_dataloader = DataLoader(tok_ft_data, batch_size=BATCH_SIZE, shuffle=True, collate_fn=generate_batch_ft, drop_last=True)"
   ]
  },
  {
   "cell_type": "code",
   "execution_count": 41,
   "metadata": {},
   "outputs": [
    {
     "name": "stdout",
     "output_type": "stream",
     "text": [
      "ScoringHead(\n",
      "  (encoder_model): EncoderModel(\n",
      "    (embedding): Embedding(27494, 128)\n",
      "    (rnn): GRU(128, 512, num_layers=2, dropout=0.2, bidirectional=True)\n",
      "    (dropout): Dropout(p=0.2, inplace=False)\n",
      "    (fc): Linear(in_features=1024, out_features=27494, bias=True)\n",
      "  )\n",
      "  (linear_relu_stack): Sequential(\n",
      "    (0): Linear(in_features=1024, out_features=512, bias=True)\n",
      "    (1): ReLU()\n",
      "    (2): Linear(in_features=512, out_features=256, bias=True)\n",
      "    (3): ReLU()\n",
      "    (4): Linear(in_features=256, out_features=64, bias=True)\n",
      "    (5): ReLU()\n",
      "    (6): Linear(in_features=64, out_features=16, bias=True)\n",
      "    (7): ReLU()\n",
      "    (8): Linear(in_features=16, out_features=1, bias=True)\n",
      "  )\n",
      ")\n"
     ]
    },
    {
     "data": {
      "text/plain": [
       "ScoringHead(\n",
       "  (encoder_model): EncoderModel(\n",
       "    (embedding): Embedding(27494, 128)\n",
       "    (rnn): GRU(128, 512, num_layers=2, dropout=0.2, bidirectional=True)\n",
       "    (dropout): Dropout(p=0.2, inplace=False)\n",
       "    (fc): Linear(in_features=1024, out_features=27494, bias=True)\n",
       "  )\n",
       "  (linear_relu_stack): Sequential(\n",
       "    (0): Linear(in_features=1024, out_features=512, bias=True)\n",
       "    (1): ReLU()\n",
       "    (2): Linear(in_features=512, out_features=256, bias=True)\n",
       "    (3): ReLU()\n",
       "    (4): Linear(in_features=256, out_features=64, bias=True)\n",
       "    (5): ReLU()\n",
       "    (6): Linear(in_features=64, out_features=16, bias=True)\n",
       "    (7): ReLU()\n",
       "    (8): Linear(in_features=16, out_features=1, bias=True)\n",
       "  )\n",
       ")"
      ]
     },
     "execution_count": 41,
     "metadata": {},
     "output_type": "execute_result"
    }
   ],
   "source": [
    "scoring_model = ScoringHead(model)\n",
    "print(scoring_model)\n",
    "scoring_model.to(device)"
   ]
  },
  {
   "cell_type": "code",
   "execution_count": 42,
   "metadata": {},
   "outputs": [],
   "source": [
    "def finetune(model, num_epochs=3):\n",
    "    loss_fn = nn.MSELoss()\n",
    "    optimizer = torch.optim.Adam(model.parameters(), lr=1e-3)\n",
    "\n",
    "    for epoch in range(num_epochs):\n",
    "        scoring_model.train()\n",
    "        print(f\"Epoch: {epoch}\")\n",
    "        loss_val = 0 \n",
    "        for x1, x2, y in ft_dataloader:\n",
    "            x1 = x1.to(device)\n",
    "            x2 = x2.to(device)\n",
    "            y = y.to(device)\n",
    "            \n",
    "            optimizer.zero_grad()\n",
    "\n",
    "            pred = model(x1, x2)\n",
    "            pred = torch.flatten(pred)\n",
    "            loss = loss_fn(pred, y)\n",
    "\n",
    "            loss.backward()\n",
    "            optimizer.step()\n",
    "            loss_val += loss.item()\n",
    "        print(f\"Train Loss: {loss_val/len(ft_dataloader)}\")"
   ]
  },
  {
   "cell_type": "code",
   "execution_count": 51,
   "metadata": {},
   "outputs": [
    {
     "name": "stdout",
     "output_type": "stream",
     "text": [
      "Epoch: 0\n",
      "Train Loss: 0.25254207066878553\n"
     ]
    }
   ],
   "source": [
    "finetune(scoring_model, num_epochs=1)"
   ]
  },
  {
   "cell_type": "code",
   "execution_count": 24,
   "metadata": {},
   "outputs": [],
   "source": [
    "with open('data/test_data.pkl', 'rb') as f:\n",
    "    test_data = pickle.load(f)\n",
    "x_test = test_data['x']\n",
    "y_test = test_data['y']"
   ]
  },
  {
   "cell_type": "code",
   "execution_count": 48,
   "metadata": {},
   "outputs": [],
   "source": [
    "def output_preds(model, x_test):\n",
    "    tok_test_data = data_process_ft(x_test, y_test)\n",
    "    test_dataloader = DataLoader(tok_test_data, batch_size=BATCH_SIZE, collate_fn=generate_batch_ft, drop_last=True)\n",
    "    preds = np.array([], dtype=np.float16)\n",
    "    for x1, x2, y in test_dataloader:\n",
    "        x1 = x1.to(device)\n",
    "        x2 = x2.to(device)\n",
    "\n",
    "        pred = model(x1, x2)\n",
    "        pred = torch.flatten(pred).cpu().detach().numpy()\n",
    "        \n",
    "        preds = np.concatenate((preds, pred))\n",
    "    \n",
    "    return preds"
   ]
  },
  {
   "cell_type": "code",
   "execution_count": 53,
   "metadata": {},
   "outputs": [],
   "source": [
    "preds = output_preds(scoring_model, x_test)\n",
    "preds = list(preds)"
   ]
  },
  {
   "cell_type": "code",
   "execution_count": 54,
   "metadata": {},
   "outputs": [
    {
     "data": {
      "text/plain": [
       "0.31905771530624794"
      ]
     },
     "execution_count": 54,
     "metadata": {},
     "output_type": "execute_result"
    }
   ],
   "source": [
    "from scipy.stats import pearsonr\n",
    "pearson_score, _ = pearsonr(preds[:10], y_test[:10])\n",
    "pearson_score"
   ]
  }
 ],
 "metadata": {
  "interpreter": {
   "hash": "3c8b4332f17b55abe5b67c7fb84c98e7a77ec1afd164452ea9e618fbfab6a3af"
  },
  "kernelspec": {
   "display_name": "Python 3.9.12 ('pytorch')",
   "language": "python",
   "name": "python3"
  },
  "language_info": {
   "codemirror_mode": {
    "name": "ipython",
    "version": 3
   },
   "file_extension": ".py",
   "mimetype": "text/x-python",
   "name": "python",
   "nbconvert_exporter": "python",
   "pygments_lexer": "ipython3",
   "version": "3.9.12"
  },
  "orig_nbformat": 4
 },
 "nbformat": 4,
 "nbformat_minor": 2
}
