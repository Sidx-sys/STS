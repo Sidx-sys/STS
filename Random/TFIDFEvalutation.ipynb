{
 "cells": [
  {
   "cell_type": "code",
   "execution_count": 1,
   "metadata": {},
   "outputs": [],
   "source": [
    "import pickle\n",
    "from scipy.stats import pearsonr\n",
    "\n",
    "from src.Vocab import Vocab\n",
    "from src.TFIDFVectorizer import TFIDFVectorizer\n",
    "from src.utils import cosine\n",
    "import numpy as np"
   ]
  },
  {
   "cell_type": "code",
   "execution_count": 2,
   "metadata": {},
   "outputs": [],
   "source": [
    "with open('data/train_data.pkl', 'rb') as f:\n",
    "    train_data = pickle.load(f)"
   ]
  },
  {
   "cell_type": "code",
   "execution_count": 3,
   "metadata": {},
   "outputs": [],
   "source": [
    "with open('data/test_data.pkl', 'rb') as f:\n",
    "    test_data = pickle.load(f)\n"
   ]
  },
  {
   "cell_type": "code",
   "execution_count": 4,
   "metadata": {},
   "outputs": [],
   "source": [
    "train_sentences = []\n",
    "for s1, s2 in train_data['x']:\n",
    "    train_sentences.append(s1)\n",
    "    train_sentences.append(s2)"
   ]
  },
  {
   "cell_type": "code",
   "execution_count": 5,
   "metadata": {},
   "outputs": [],
   "source": [
    "vocab = Vocab(train_sentences, remove_stopwords=True)"
   ]
  },
  {
   "cell_type": "code",
   "execution_count": 6,
   "metadata": {},
   "outputs": [],
   "source": [
    "vec = TFIDFVectorizer(vocab)\n",
    "vec.fit(train_sentences)"
   ]
  },
  {
   "cell_type": "code",
   "execution_count": 72,
   "metadata": {},
   "outputs": [],
   "source": [
    "preds = []\n",
    "\n",
    "for pair in test_data['x']:\n",
    "    pair = vec.transform(pair)\n",
    "    s1 = pair[0]\n",
    "    s2 = pair[1]\n",
    "\n",
    "    score = cosine(s1, s2) * 5\n",
    "    preds.append(score)"
   ]
  },
  {
   "cell_type": "code",
   "execution_count": 74,
   "metadata": {},
   "outputs": [
    {
     "name": "stdout",
     "output_type": "stream",
     "text": [
      "Pearson Score for TFIDF Model with Cosine Similarity: 0.6859\n"
     ]
    }
   ],
   "source": [
    "pearson_score, _ = pearsonr(preds, test_data['y'])\n",
    "print(f'Pearson Score for TFIDF Model with Cosine Similarity: {pearson_score:.4f}')\n"
   ]
  },
  {
   "cell_type": "code",
   "execution_count": 75,
   "metadata": {},
   "outputs": [],
   "source": [
    "import torch\n",
    "import torch.nn as nn\n",
    "import torch.nn.functional as F\n",
    "import torch.optim as optim\n",
    "\n",
    "from torch.utils.data import Dataset, DataLoader"
   ]
  },
  {
   "cell_type": "code",
   "execution_count": 76,
   "metadata": {},
   "outputs": [],
   "source": [
    "class STSDataset(Dataset):\n",
    "    def __init__(self, tfidf_vectorizer, data):\n",
    "        self.sts_data = []\n",
    "        for x, y in zip(data['x'], data['y']):\n",
    "            pair = tfidf_vectorizer.transform(x)\n",
    "            self.sts_data.append((np.abs(pair[0] - pair[1]), y))\n",
    "    def __len__(self):\n",
    "        return len(self.sts_data)\n",
    "    def __getitem__(self, idx):\n",
    "        return self.sts_data[idx]"
   ]
  },
  {
   "cell_type": "code",
   "execution_count": 77,
   "metadata": {},
   "outputs": [],
   "source": [
    "train_dataset = STSDataset(vec, train_data)\n",
    "test_dataset = STSDataset(vec, test_data)"
   ]
  },
  {
   "cell_type": "code",
   "execution_count": 113,
   "metadata": {},
   "outputs": [],
   "source": [
    "BATCH_SIZE=32"
   ]
  },
  {
   "cell_type": "code",
   "execution_count": 114,
   "metadata": {},
   "outputs": [],
   "source": [
    "train_dataloader = DataLoader(train_dataset, batch_size=BATCH_SIZE, shuffle=True)\n",
    "test_dataloader = DataLoader(test_dataset, batch_size=BATCH_SIZE)"
   ]
  },
  {
   "cell_type": "code",
   "execution_count": 115,
   "metadata": {},
   "outputs": [],
   "source": [
    "class ScoringHead(nn.Module):\n",
    "    def __init__(self, input_dim):\n",
    "        super(ScoringHead, self).__init__()\n",
    "        self.input_dim = input_dim\n",
    "        self.hidden_dim_1 = 2048\n",
    "        self.hidden_dim_2 = 1024\n",
    "        self.hidden_dim_3 = 512\n",
    "        self.hidden_dim_4 = 256\n",
    "        self.linear_stack = nn.Sequential(\n",
    "            nn.Linear(self.input_dim, self.hidden_dim_1),\n",
    "            nn.ReLU(),\n",
    "            nn.Linear(self.hidden_dim_1, self.hidden_dim_2),\n",
    "            nn.ReLU(),\n",
    "            nn.Linear(self.hidden_dim_2, self.hidden_dim_3),\n",
    "            nn.ReLU(),\n",
    "            nn.Linear(self.hidden_dim_3, self.hidden_dim_4),\n",
    "            nn.ReLU(),\n",
    "            nn.Linear(self.hidden_dim_4, 1),\n",
    "            nn.Sigmoid()\n",
    "        )\n",
    "    def forward(self, x):\n",
    "        output = self.linear_stack(x)\n",
    "        return output.squeeze(1) * 5"
   ]
  },
  {
   "cell_type": "code",
   "execution_count": 116,
   "metadata": {},
   "outputs": [
    {
     "name": "stdout",
     "output_type": "stream",
     "text": [
      "Using Device: cuda\n"
     ]
    }
   ],
   "source": [
    "device = torch.device('cuda' if torch.cuda.is_available() else 'cpu')\n",
    "print(f\"Using Device: {device}\")"
   ]
  },
  {
   "cell_type": "code",
   "execution_count": 117,
   "metadata": {},
   "outputs": [
    {
     "data": {
      "text/plain": [
       "ScoringHead(\n",
       "  (linear_stack): Sequential(\n",
       "    (0): Linear(in_features=1258, out_features=2048, bias=True)\n",
       "    (1): ReLU()\n",
       "    (2): Linear(in_features=2048, out_features=1024, bias=True)\n",
       "    (3): ReLU()\n",
       "    (4): Linear(in_features=1024, out_features=512, bias=True)\n",
       "    (5): ReLU()\n",
       "    (6): Linear(in_features=512, out_features=256, bias=True)\n",
       "    (7): ReLU()\n",
       "    (8): Linear(in_features=256, out_features=1, bias=True)\n",
       "    (9): Sigmoid()\n",
       "  )\n",
       ")"
      ]
     },
     "execution_count": 117,
     "metadata": {},
     "output_type": "execute_result"
    }
   ],
   "source": [
    "input_dim = len(vec.vocab)\n",
    "\n",
    "scoring_head = ScoringHead(input_dim)\n",
    "scoring_head.to(device)"
   ]
  },
  {
   "cell_type": "code",
   "execution_count": 118,
   "metadata": {},
   "outputs": [],
   "source": [
    "def train(model, device, n_epochs=5):\n",
    "    loss_fn = nn.MSELoss()\n",
    "    optimizer = optim.SGD(model.parameters(), lr=0.01)\n",
    "    model.train()\n",
    "    for e in range(n_epochs):\n",
    "        loss_val = 0\n",
    "        for X, y in train_dataloader:\n",
    "            X = X.float().to(device)\n",
    "            y = y.float().to(device)\n",
    "            optimizer.zero_grad()\n",
    "\n",
    "            output = model(X)\n",
    "            loss = loss_fn(output, y)\n",
    "            loss.backward()\n",
    "            optimizer.step()\n",
    "\n",
    "            loss_val += loss.item()\n",
    "\n",
    "        print(f\"Epoch {e+1}, Train Loss: {loss_val/len(train_dataloader)}\")"
   ]
  },
  {
   "cell_type": "code",
   "execution_count": 119,
   "metadata": {},
   "outputs": [
    {
     "name": "stdout",
     "output_type": "stream",
     "text": [
      "Epoch 1, Train Loss: 1.1516302535931269\n",
      "Epoch 2, Train Loss: 0.9949590548872947\n",
      "Epoch 3, Train Loss: 0.8742782056331635\n",
      "Epoch 4, Train Loss: 0.7225486196577549\n",
      "Epoch 5, Train Loss: 0.5587408152719339\n",
      "Epoch 6, Train Loss: 0.43546702762444817\n",
      "Epoch 7, Train Loss: 0.36149752624332904\n",
      "Epoch 8, Train Loss: 0.31689101743201414\n",
      "Epoch 9, Train Loss: 0.2881363751987616\n",
      "Epoch 10, Train Loss: 0.26263212809960046\n",
      "Epoch 11, Train Loss: 0.24338593557476998\n",
      "Epoch 12, Train Loss: 0.22946036296586195\n",
      "Epoch 13, Train Loss: 0.220094510478278\n",
      "Epoch 14, Train Loss: 0.21370398631940285\n",
      "Epoch 15, Train Loss: 0.20732189025729894\n",
      "Epoch 16, Train Loss: 0.19873877341548601\n",
      "Epoch 17, Train Loss: 0.19909343048930167\n",
      "Epoch 18, Train Loss: 0.1896939021224777\n",
      "Epoch 19, Train Loss: 0.18519287910312415\n",
      "Epoch 20, Train Loss: 0.18495314220587414\n",
      "Epoch 21, Train Loss: 0.18025015868867436\n",
      "Epoch 22, Train Loss: 0.17905330744882425\n",
      "Epoch 23, Train Loss: 0.17612534655878942\n",
      "Epoch 24, Train Loss: 0.17305853419626752\n",
      "Epoch 25, Train Loss: 0.17065484933555125\n",
      "Epoch 26, Train Loss: 0.1645497148235639\n",
      "Epoch 27, Train Loss: 0.16503837667405605\n",
      "Epoch 28, Train Loss: 0.16343869188179572\n",
      "Epoch 29, Train Loss: 0.161318597321709\n",
      "Epoch 30, Train Loss: 0.16305438140407205\n",
      "Epoch 31, Train Loss: 0.16005699221665662\n",
      "Epoch 32, Train Loss: 0.15640540240953366\n",
      "Epoch 33, Train Loss: 0.15740524996072053\n",
      "Epoch 34, Train Loss: 0.16137992056707542\n",
      "Epoch 35, Train Loss: 0.15813967812185487\n",
      "Epoch 36, Train Loss: 0.15634675628195208\n",
      "Epoch 37, Train Loss: 0.15410041995346546\n",
      "Epoch 38, Train Loss: 0.1525855639949441\n",
      "Epoch 39, Train Loss: 0.15210254788398742\n",
      "Epoch 40, Train Loss: 0.15161698053901393\n"
     ]
    }
   ],
   "source": [
    "train(scoring_head, device, n_epochs=40)"
   ]
  },
  {
   "cell_type": "code",
   "execution_count": 120,
   "metadata": {},
   "outputs": [],
   "source": [
    "def predict(model, device):\n",
    "\n",
    "    model.eval()\n",
    "    outputs = []\n",
    "    with torch.no_grad():\n",
    "        for X, _ in test_dataloader:\n",
    "            X = X.float().to(device)\n",
    "            out = model(X)\n",
    "            outputs.append(out.cpu())\n",
    "    return torch.concat(outputs)"
   ]
  },
  {
   "cell_type": "code",
   "execution_count": 121,
   "metadata": {},
   "outputs": [],
   "source": [
    "preds = predict(scoring_head, device)"
   ]
  },
  {
   "cell_type": "code",
   "execution_count": 122,
   "metadata": {},
   "outputs": [
    {
     "name": "stdout",
     "output_type": "stream",
     "text": [
      "Pearson Score for TFIDF Model with MLP Scoring: 0.7807\n"
     ]
    }
   ],
   "source": [
    "pearson_score, _ = pearsonr(preds, test_data['y'])\n",
    "print(f'Pearson Score for TFIDF Model with MLP Scoring: {pearson_score:.4f}')\n"
   ]
  }
 ],
 "metadata": {
  "interpreter": {
   "hash": "f3ebefefc6aaf644093121d8e5202d868a7e59c8d807fbf6949f2a61cd748adb"
  },
  "kernelspec": {
   "display_name": "Python 3.9.12 ('pytorch')",
   "language": "python",
   "name": "python3"
  },
  "language_info": {
   "codemirror_mode": {
    "name": "ipython",
    "version": 3
   },
   "file_extension": ".py",
   "mimetype": "text/x-python",
   "name": "python",
   "nbconvert_exporter": "python",
   "pygments_lexer": "ipython3",
   "version": "3.9.12"
  },
  "orig_nbformat": 4
 },
 "nbformat": 4,
 "nbformat_minor": 2
}
