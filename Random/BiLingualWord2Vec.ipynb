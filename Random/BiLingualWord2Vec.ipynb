{
 "cells": [
  {
   "cell_type": "code",
   "execution_count": 1,
   "metadata": {},
   "outputs": [],
   "source": [
    "import pickle\n",
    "from scipy.stats import pearsonr\n",
    "\n",
    "from src.Vocab import Vocab\n",
    "from src.utils import cosine\n",
    "from src.Word2Vec import Word2Vec\n",
    "import numpy as np\n",
    "from copy import deepcopy\n"
   ]
  },
  {
   "cell_type": "code",
   "execution_count": 2,
   "metadata": {},
   "outputs": [],
   "source": [
    "with open('data/en_es/train_data_cross.pkl', 'rb') as f:\n",
    "    train_data = pickle.load(f)\n",
    "\n",
    "with open('data/en_es/test_data_cross.pkl', 'rb') as f:\n",
    "    test_data = pickle.load(f)\n"
   ]
  },
  {
   "cell_type": "code",
   "execution_count": 3,
   "metadata": {},
   "outputs": [],
   "source": [
    "en_sentences = [x[0] for x in train_data['x']]\n",
    "es_sentences = [x[1] for x in train_data['x']]"
   ]
  },
  {
   "cell_type": "code",
   "execution_count": 4,
   "metadata": {},
   "outputs": [],
   "source": [
    "en_vocab = Vocab(en_sentences,lang='english', remove_stopwords=False)\n",
    "es_vocab = Vocab(es_sentences,lang='spanish', remove_stopwords=False)"
   ]
  },
  {
   "cell_type": "code",
   "execution_count": 5,
   "metadata": {},
   "outputs": [],
   "source": [
    "import torch\n",
    "import torch.nn as nn\n",
    "import torch.nn.functional as F\n",
    "import torch.optim as optim\n",
    "\n",
    "from torch.utils.data import Dataset, DataLoader\n"
   ]
  },
  {
   "cell_type": "code",
   "execution_count": 6,
   "metadata": {},
   "outputs": [],
   "source": [
    "en_train_sequences = [en_vocab.sequencify(sen, addEOSBOS=True) for sen in en_sentences]\n",
    "es_train_sequences = [es_vocab.sequencify(sen, addEOSBOS=True) for sen in es_sentences]"
   ]
  },
  {
   "cell_type": "code",
   "execution_count": 7,
   "metadata": {},
   "outputs": [],
   "source": [
    "class EmbeddingDataset(Dataset):\n",
    "\n",
    "    def __init__(self, sequences, context_size, skipgram=False):\n",
    "        self.skipgram = skipgram\n",
    "        self.context_size = context_size\n",
    "\n",
    "        self.contexts = []\n",
    "        self.targets = []\n",
    "\n",
    "        for seq in sequences:\n",
    "            for i in range(self.context_size, len(seq) - self.context_size):\n",
    "                target = seq[i]\n",
    "                context = []\n",
    "                for j in range(i - self.context_size, i + self.context_size + 1):\n",
    "                    if i == j:\n",
    "                        continue\n",
    "                    context.append(seq[j])\n",
    "                self.targets.append(target)\n",
    "                self.contexts.append(context)\n",
    "\n",
    "    def __len__(self):\n",
    "        return len(self.targets)\n",
    "\n",
    "    def __getitem__(self, idx):\n",
    "        data = (self.targets[idx], np.array(self.contexts[idx]))\n",
    "        if self.skipgram:\n",
    "            return data\n",
    "        else:\n",
    "            return data[::-1]\n"
   ]
  },
  {
   "cell_type": "code",
   "execution_count": 8,
   "metadata": {},
   "outputs": [],
   "source": [
    "BATCH_SIZE = 64\n",
    "CONTEXT_SIZE = 2\n",
    "EMBEDDING_DIM = 128\n"
   ]
  },
  {
   "cell_type": "code",
   "execution_count": 9,
   "metadata": {},
   "outputs": [],
   "source": [
    "en_embedding_dataset = EmbeddingDataset(en_train_sequences, CONTEXT_SIZE)\n",
    "en_embedding_dataloader = DataLoader(\n",
    "    en_embedding_dataset, shuffle=True, batch_size=BATCH_SIZE)\n",
    "\n",
    "\n",
    "es_embedding_dataset = EmbeddingDataset(es_train_sequences, CONTEXT_SIZE)\n",
    "es_embedding_dataloader = DataLoader(\n",
    "    es_embedding_dataset, shuffle=True, batch_size=BATCH_SIZE)\n"
   ]
  },
  {
   "cell_type": "code",
   "execution_count": 10,
   "metadata": {},
   "outputs": [
    {
     "name": "stdout",
     "output_type": "stream",
     "text": [
      "Using Device: cuda\n"
     ]
    }
   ],
   "source": [
    "device = torch.device('cuda' if torch.cuda.is_available() else 'cpu')\n",
    "print(f\"Using Device: {device}\")\n"
   ]
  },
  {
   "cell_type": "code",
   "execution_count": 11,
   "metadata": {},
   "outputs": [
    {
     "data": {
      "text/plain": [
       "Word2Vec(\n",
       "  (embedding): Embedding(3819, 128)\n",
       "  (layers): Sequential(\n",
       "    (0): Linear(in_features=512, out_features=128, bias=True)\n",
       "    (1): ReLU()\n",
       "    (2): Linear(in_features=128, out_features=3819, bias=True)\n",
       "  )\n",
       ")"
      ]
     },
     "execution_count": 11,
     "metadata": {},
     "output_type": "execute_result"
    }
   ],
   "source": [
    "en_w2v = Word2Vec(len(en_vocab), CONTEXT_SIZE, embedding_dim=EMBEDDING_DIM)\n",
    "en_w2v.to(device)"
   ]
  },
  {
   "cell_type": "code",
   "execution_count": 12,
   "metadata": {},
   "outputs": [
    {
     "data": {
      "text/plain": [
       "Word2Vec(\n",
       "  (embedding): Embedding(4030, 128)\n",
       "  (layers): Sequential(\n",
       "    (0): Linear(in_features=512, out_features=128, bias=True)\n",
       "    (1): ReLU()\n",
       "    (2): Linear(in_features=128, out_features=4030, bias=True)\n",
       "  )\n",
       ")"
      ]
     },
     "execution_count": 12,
     "metadata": {},
     "output_type": "execute_result"
    }
   ],
   "source": [
    "es_w2v = Word2Vec(len(es_vocab), CONTEXT_SIZE, embedding_dim=EMBEDDING_DIM)\n",
    "es_w2v.to(device)\n"
   ]
  },
  {
   "cell_type": "code",
   "execution_count": 13,
   "metadata": {},
   "outputs": [],
   "source": [
    "def train(model: Word2Vec, dataloader: DataLoader, device: torch.device, n_epochs: int = 5) -> None:\n",
    "    criterion = nn.NLLLoss()\n",
    "    optimizer = optim.Adam(model.parameters())\n",
    "    model.train()\n",
    "\n",
    "    assert model.skipgram == dataloader.dataset.skipgram, \"Mismatching Model and Data Formats\"\n",
    "\n",
    "    for e in range(n_epochs):\n",
    "        loss_val = 0\n",
    "\n",
    "        for X, y in dataloader:\n",
    "            X = X.long().to(device)\n",
    "            y = y.long().to(device)\n",
    "\n",
    "            optimizer.zero_grad()\n",
    "            output = model(X)\n",
    "            loss = criterion(output, y)\n",
    "            loss.backward()\n",
    "            optimizer.step()\n",
    "\n",
    "            loss_val += loss.item()\n",
    "\n",
    "        print(f\"Epoch {e+1}, Train Loss: {loss_val/len(dataloader)}\")"
   ]
  },
  {
   "cell_type": "code",
   "execution_count": 14,
   "metadata": {},
   "outputs": [
    {
     "name": "stdout",
     "output_type": "stream",
     "text": [
      "Epoch 1, Train Loss: 4.869018103026141\n",
      "Epoch 2, Train Loss: 3.5933262315484087\n",
      "Epoch 3, Train Loss: 2.8450885117758533\n",
      "Epoch 4, Train Loss: 2.255736900747433\n",
      "Epoch 5, Train Loss: 1.8260701839335798\n",
      "Epoch 6, Train Loss: 1.51958656550581\n",
      "Epoch 7, Train Loss: 1.288433305854587\n",
      "Epoch 8, Train Loss: 1.107692725927084\n",
      "Epoch 9, Train Loss: 0.9663792578275979\n",
      "Epoch 10, Train Loss: 0.8440504751870537\n"
     ]
    }
   ],
   "source": [
    "train(es_w2v, es_embedding_dataloader, device, n_epochs=10)"
   ]
  },
  {
   "cell_type": "code",
   "execution_count": 15,
   "metadata": {},
   "outputs": [
    {
     "name": "stdout",
     "output_type": "stream",
     "text": [
      "Epoch 1, Train Loss: 5.554893219459868\n",
      "Epoch 2, Train Loss: 4.357083235960193\n",
      "Epoch 3, Train Loss: 3.552917606010686\n",
      "Epoch 4, Train Loss: 2.8358067097446127\n",
      "Epoch 5, Train Loss: 2.28806072123564\n",
      "Epoch 6, Train Loss: 1.8998558322403438\n",
      "Epoch 7, Train Loss: 1.6161003148900164\n",
      "Epoch 8, Train Loss: 1.3954997729277456\n",
      "Epoch 9, Train Loss: 1.2182653352465456\n",
      "Epoch 10, Train Loss: 1.0676211829176598\n"
     ]
    }
   ],
   "source": [
    "train(en_w2v, en_embedding_dataloader, device, n_epochs=10)"
   ]
  },
  {
   "cell_type": "code",
   "execution_count": 16,
   "metadata": {},
   "outputs": [],
   "source": [
    "class BiLingualSTSDataset(Dataset):\n",
    "    def __init__(self, vocab_en: Vocab, vocab_es:Vocab, data):\n",
    "        self.sts_data = []\n",
    "        for x, y in zip(data['x'], data['y']):\n",
    "            s1, s2 = x\n",
    "            s1, s2 = vocab_en.sequencify(\n",
    "                s1, addEOSBOS=True), vocab_es.sequencify(s2, addEOSBOS=True)\n",
    "            self.sts_data.append(((s1, s2), y))\n",
    "\n",
    "    def __len__(self):\n",
    "        return len(self.sts_data)\n",
    "\n",
    "    def __getitem__(self, idx):\n",
    "        return self.sts_data[idx]\n"
   ]
  },
  {
   "cell_type": "code",
   "execution_count": 17,
   "metadata": {},
   "outputs": [],
   "source": [
    "ft_dataset = BiLingualSTSDataset(en_vocab, es_vocab, train_data)\n",
    "ft_dataloader = DataLoader(ft_dataset, batch_size=1, shuffle=True, collate_fn=lambda x: zip(*x))"
   ]
  },
  {
   "cell_type": "code",
   "execution_count": 18,
   "metadata": {},
   "outputs": [],
   "source": [
    "class SpaceTransformer(nn.Module):\n",
    "\n",
    "    def __init__(self, in_dim, out_dim):\n",
    "        super(SpaceTransformer, self).__init__()\n",
    "        self.transformation = nn.Sequential(\n",
    "            nn.Linear(in_dim, 256),\n",
    "            nn.ReLU(),\n",
    "            nn.Linear(256, out_dim)\n",
    "        )\n",
    "\n",
    "    def forward(self, X):\n",
    "        return self.transformation(X)"
   ]
  },
  {
   "cell_type": "code",
   "execution_count": 19,
   "metadata": {},
   "outputs": [
    {
     "data": {
      "text/plain": [
       "SpaceTransformer(\n",
       "  (transformation): Sequential(\n",
       "    (0): Linear(in_features=128, out_features=256, bias=True)\n",
       "    (1): ReLU()\n",
       "    (2): Linear(in_features=256, out_features=128, bias=True)\n",
       "  )\n",
       ")"
      ]
     },
     "execution_count": 19,
     "metadata": {},
     "output_type": "execute_result"
    }
   ],
   "source": [
    "space_transformer = SpaceTransformer(EMBEDDING_DIM, EMBEDDING_DIM)\n",
    "space_transformer.to(device)"
   ]
  },
  {
   "cell_type": "code",
   "execution_count": 20,
   "metadata": {},
   "outputs": [],
   "source": [
    "class SimilarityScore(nn.Module):\n",
    "    def __init__(self, dim=0):\n",
    "        super(SimilarityScore, self).__init__()\n",
    "        self.cos = nn.CosineSimilarity(dim=dim)\n",
    "\n",
    "    def __call__(self, v1, v2):\n",
    "        return self.cos(v1, v2) * 5\n"
   ]
  },
  {
   "cell_type": "code",
   "execution_count": 21,
   "metadata": {},
   "outputs": [],
   "source": [
    "def learn_transformation(space_transformer:SpaceTransformer, en_w2v:Word2Vec, es_w2v:Word2Vec, device:torch.device, dataloader:DataLoader, n_epochs=5):\n",
    "\n",
    "    metric = SimilarityScore(dim=0)\n",
    "    criterion = nn.MSELoss()\n",
    "    optimizer = optim.Adam(space_transformer.parameters())\n",
    "\n",
    "    for param in en_w2v.parameters():\n",
    "        param.requires_grad = False\n",
    "\n",
    "    for param in es_w2v.parameters():\n",
    "        param.requires_grad = False\n",
    "\n",
    "    for e in range(n_epochs):\n",
    "        loss_val = 0\n",
    "        for X, y in dataloader:\n",
    "            s1, s2 = X[0]\n",
    "            s1 = torch.tensor(s1).long().to(device)\n",
    "            s2 = torch.tensor(s2).long().to(device)\n",
    "            y = torch.tensor(y).float().to(device).squeeze(0)\n",
    "            optimizer.zero_grad()\n",
    "\n",
    "            emb1 = torch.mean(en_w2v.embedding(s1), dim=0)\n",
    "            emb2 = torch.mean(es_w2v.embedding(s2), dim=0)\n",
    "\n",
    "            emb2 = space_transformer(emb2)\n",
    "            sim = metric(emb1, emb2)\n",
    "            loss = criterion(sim, y)\n",
    "            loss.backward()\n",
    "            optimizer.step()\n",
    "\n",
    "            loss_val += loss.item()\n",
    "        print(f\"Epoch {e+1}, Train Loss: {loss_val/len(dataloader)}\")\n"
   ]
  },
  {
   "cell_type": "code",
   "execution_count": 22,
   "metadata": {},
   "outputs": [
    {
     "name": "stdout",
     "output_type": "stream",
     "text": [
      "Epoch 1, Train Loss: 2.329406357288242\n",
      "Epoch 2, Train Loss: 1.9524453576933054\n",
      "Epoch 3, Train Loss: 1.6321869113770031\n",
      "Epoch 4, Train Loss: 1.3589374521561024\n",
      "Epoch 5, Train Loss: 1.1600778687387856\n"
     ]
    }
   ],
   "source": [
    "learn_transformation(space_transformer, en_w2v, es_w2v, device, ft_dataloader, n_epochs=5)"
   ]
  },
  {
   "cell_type": "code",
   "execution_count": 23,
   "metadata": {},
   "outputs": [],
   "source": [
    "from itertools import chain"
   ]
  },
  {
   "cell_type": "code",
   "execution_count": 24,
   "metadata": {},
   "outputs": [],
   "source": [
    "def cosine_ft(en_w2v:Word2Vec, es_w2v:Word2Vec, space_transformer:torch.tensor, device, dataloader, n_epochs=5):\n",
    "    metric = SimilarityScore(dim=0)\n",
    "    criterion = nn.MSELoss()\n",
    "    optimizer = optim.Adam(chain(en_w2v.parameters(), es_w2v.parameters(), space_transformer.parameters()))\n",
    "\n",
    "    for param in en_w2v.parameters():\n",
    "        param.requires_grad = True\n",
    "\n",
    "    for param in es_w2v.parameters():\n",
    "        param.requires_grad = True\n",
    "\n",
    "    for e in range(n_epochs):\n",
    "        loss_val = 0\n",
    "\n",
    "        for X, y in dataloader:\n",
    "            s1, s2 = X[0]\n",
    "            s1 = torch.tensor(s1).long().to(device)\n",
    "            s2 = torch.tensor(s2).long().to(device)\n",
    "            y = torch.tensor(y).float().to(device).squeeze(0)\n",
    "\n",
    "            optimizer.zero_grad()\n",
    "\n",
    "            emb1 = torch.mean(en_w2v.embedding(s1), dim=0)\n",
    "            emb2 = torch.mean(es_w2v.embedding(s2), dim=0)\n",
    "            emb2 = space_transformer(emb2)\n",
    "            sim = metric(emb1, emb2)\n",
    "            loss = criterion(sim, y)\n",
    "            loss.backward()\n",
    "            optimizer.step()\n",
    "\n",
    "            loss_val += loss.item()\n",
    "\n",
    "        print(f\"Epoch {e+1}, Train Loss: {loss_val/len(dataloader)}\")\n"
   ]
  },
  {
   "cell_type": "code",
   "execution_count": 25,
   "metadata": {},
   "outputs": [
    {
     "name": "stdout",
     "output_type": "stream",
     "text": [
      "Epoch 1, Train Loss: 0.9210498603057984\n",
      "Epoch 2, Train Loss: 0.566173892177482\n",
      "Epoch 3, Train Loss: 0.3768685667987289\n",
      "Epoch 4, Train Loss: 0.27137094958709795\n",
      "Epoch 5, Train Loss: 0.20912560572058003\n",
      "Epoch 6, Train Loss: 0.17476388164707837\n",
      "Epoch 7, Train Loss: 0.14469916134695335\n",
      "Epoch 8, Train Loss: 0.12713880567708413\n",
      "Epoch 9, Train Loss: 0.11250049899757789\n",
      "Epoch 10, Train Loss: 0.10049569369833879\n"
     ]
    }
   ],
   "source": [
    "cosine_ft(en_w2v, es_w2v, space_transformer, device, ft_dataloader, 10 )"
   ]
  },
  {
   "cell_type": "code",
   "execution_count": 26,
   "metadata": {},
   "outputs": [],
   "source": [
    "def get_sim_score(s1, s2, device):\n",
    "    s1 = en_vocab.sequencify(s1)\n",
    "    s2 = es_vocab.sequencify(s2)\n",
    "\n",
    "    s1 = torch.tensor(s1).long().to(device)\n",
    "    s2 = torch.tensor(s2).long().to(device)\n",
    "    \n",
    "    with torch.no_grad():\n",
    "        v1 = torch.mean(en_w2v.embedding(s1), dim=0).detach().cpu().numpy()\n",
    "        v2 = torch.mean(es_w2v.embedding(s2), dim=0)\n",
    "        v2 = space_transformer(v2).detach().cpu().numpy()\n",
    "\n",
    "    return cosine(v1, v2) * 5"
   ]
  },
  {
   "cell_type": "code",
   "execution_count": 27,
   "metadata": {},
   "outputs": [],
   "source": [
    "preds = []\n",
    "\n",
    "for pairs in test_data['x']:\n",
    "    s1 = pairs[0]\n",
    "    s2 = pairs[1]\n",
    "\n",
    "    score = get_sim_score(s1, s2, device)\n",
    "    preds.append(score)"
   ]
  },
  {
   "cell_type": "code",
   "execution_count": 28,
   "metadata": {},
   "outputs": [
    {
     "name": "stdout",
     "output_type": "stream",
     "text": [
      "Pearson Score for Word2Vec with Cosine Finetuning: 0.1583\n"
     ]
    }
   ],
   "source": [
    "pearson_score, _ = pearsonr(preds, test_data['y'])\n",
    "print(f'Pearson Score for Word2Vec with Cosine Finetuning: {pearson_score:.4f}')\n"
   ]
  },
  {
   "cell_type": "code",
   "execution_count": 29,
   "metadata": {},
   "outputs": [],
   "source": [
    "torch.save(en_w2v.state_dict(),'models/cross_en_w2v.pt')\n",
    "torch.save(es_w2v.state_dict(),'models/cross_es_w2v.pt')\n",
    "torch.save(space_transformer.state_dict(),'models/cross_es_space_transformer.pt')"
   ]
  }
 ],
 "metadata": {
  "interpreter": {
   "hash": "31f2aee4e71d21fbe5cf8b01ff0e069b9275f58929596ceb00d14d90e3e16cd6"
  },
  "kernelspec": {
   "display_name": "Python 3.5.2 64-bit",
   "language": "python",
   "name": "python3"
  },
  "language_info": {
   "codemirror_mode": {
    "name": "ipython",
    "version": 3
   },
   "file_extension": ".py",
   "mimetype": "text/x-python",
   "name": "python",
   "nbconvert_exporter": "python",
   "pygments_lexer": "ipython3",
   "version": "3.9.12"
  },
  "orig_nbformat": 4
 },
 "nbformat": 4,
 "nbformat_minor": 2
}
