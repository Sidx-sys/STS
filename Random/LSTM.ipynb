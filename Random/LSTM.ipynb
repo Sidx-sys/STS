{
 "cells": [
  {
   "cell_type": "code",
   "execution_count": 1,
   "metadata": {},
   "outputs": [],
   "source": [
    "import pickle\n",
    "from scipy.stats import pearsonr\n",
    "\n",
    "from src.Vocab import Vocab\n",
    "from src.utils import cosine\n",
    "\n",
    "import numpy as np\n",
    "from copy import deepcopy\n"
   ]
  },
  {
   "cell_type": "code",
   "execution_count": 2,
   "metadata": {},
   "outputs": [],
   "source": [
    "with open('data/train_data.pkl', 'rb') as f:\n",
    "    train_data = pickle.load(f)\n"
   ]
  },
  {
   "cell_type": "code",
   "execution_count": 3,
   "metadata": {},
   "outputs": [],
   "source": [
    "with open('data/test_data.pkl', 'rb') as f:\n",
    "    test_data = pickle.load(f)\n"
   ]
  },
  {
   "cell_type": "code",
   "execution_count": 4,
   "metadata": {},
   "outputs": [],
   "source": [
    "with open('data/base_text_data.pkl', 'rb') as f:\n",
    "    sentences = pickle.load(f)\n"
   ]
  },
  {
   "cell_type": "code",
   "execution_count": 5,
   "metadata": {},
   "outputs": [],
   "source": [
    "vocab = Vocab(sentences, remove_stopwords=False)\n"
   ]
  },
  {
   "cell_type": "code",
   "execution_count": 6,
   "metadata": {},
   "outputs": [],
   "source": [
    "import torch\n",
    "import torch.nn as nn\n",
    "import torch.nn.functional as F\n",
    "import torch.optim as optim\n",
    "\n",
    "from torch.utils.data import Dataset, DataLoader\n"
   ]
  },
  {
   "cell_type": "code",
   "execution_count": 7,
   "metadata": {},
   "outputs": [],
   "source": [
    "train_sequences = [vocab.sequencify(sen, addEOSBOS=True) for sen in sentences]\n"
   ]
  },
  {
   "cell_type": "code",
   "execution_count": 8,
   "metadata": {},
   "outputs": [],
   "source": [
    "class EmbeddingDataset(Dataset):\n",
    "\n",
    "    def __init__(self, sequences):\n",
    "        self.sequences = sorted(sequences, key=lambda x: len(x))\n",
    "\n",
    "    def __len__(self):\n",
    "        return len(self.sequences)\n",
    "\n",
    "    def __getitem__(self, idx):\n",
    "        return self.sequences[idx][:-1], self.sequences[idx][1:]\n",
    "\n",
    "\n",
    "def pad_batch(batch_data):\n",
    "    X = [list(x[0]) for x in batch_data]\n",
    "    y = [list(x[1]) for x in batch_data]\n",
    "\n",
    "    x_seq_len = max(len(x) for x in X)\n",
    "    y_seq_len = max(len(x) for x in y)\n",
    "\n",
    "    padded_X = np.zeros((len(X), x_seq_len))\n",
    "    padded_y = np.zeros((len(y), y_seq_len))\n",
    "\n",
    "    for i in range(len(X)):\n",
    "        curr_X = X[i] + ([0] * (x_seq_len - len(X[i])))\n",
    "        curr_y = y[i] + ([0] * (y_seq_len - len(y[i])))\n",
    "\n",
    "        padded_X[i] = np.array(curr_X)\n",
    "        padded_y[i] = np.array(curr_y)\n",
    "\n",
    "    return torch.tensor(padded_X).long(), torch.tensor(padded_y).long()\n"
   ]
  },
  {
   "cell_type": "code",
   "execution_count": 9,
   "metadata": {},
   "outputs": [],
   "source": [
    "BATCH_SIZE = 64\n",
    "EMBEDDING_DIM = 100"
   ]
  },
  {
   "cell_type": "code",
   "execution_count": 10,
   "metadata": {},
   "outputs": [],
   "source": [
    "embedding_dataset = EmbeddingDataset(train_sequences)\n",
    "embedding_dataloader = DataLoader(\n",
    "    embedding_dataset, batch_size=BATCH_SIZE, drop_last=True, collate_fn=pad_batch)\n"
   ]
  },
  {
   "cell_type": "code",
   "execution_count": 11,
   "metadata": {},
   "outputs": [
    {
     "name": "stdout",
     "output_type": "stream",
     "text": [
      "Using Device: cuda\n"
     ]
    }
   ],
   "source": [
    "device = torch.device('cuda' if torch.cuda.is_available() else 'cpu')\n",
    "print(f\"Using Device: {device}\")\n"
   ]
  },
  {
   "cell_type": "code",
   "execution_count": 12,
   "metadata": {},
   "outputs": [],
   "source": [
    "class SiameseLSTM(nn.Module):\n",
    "    def __init__(self, vocab_size, n_layers, embedding_size=128, n_hidden=256, drop_prob=0.2, freeze_embeddings=False, embedding_state_dict=None):\n",
    "        super(SiameseLSTM, self).__init__()\n",
    "\n",
    "        if freeze_embeddings:\n",
    "            assert embedding_state_dict is not None\n",
    "\n",
    "        self.vocab_size = vocab_size\n",
    "        self.embedding_size = embedding_size\n",
    "        self.drop_prob = drop_prob\n",
    "        self.n_hidden = n_hidden\n",
    "        self.n_layers = n_layers\n",
    "\n",
    "        self.embedding = nn.Embedding(\n",
    "            self.vocab_size, self.embedding_size, padding_idx=0)\n",
    "\n",
    "        if freeze_embeddings:\n",
    "            self.embedding.load_state_dict(torch.load(embedding_state_dict))\n",
    "            for param in self.embedding.parameters():\n",
    "                param.requires_grad = False\n",
    "\n",
    "        self.lstm = nn.LSTM(self.embedding_size, self.n_hidden, self.n_layers,\n",
    "                            dropout=self.drop_prob, batch_first=True, bidirectional=True)\n",
    "\n",
    "    def forward_once(self, X):\n",
    "        embedding = self.embedding(X)\n",
    "        _, (h, c) = self.lstm(embedding)\n",
    "        h = torch.mean(h, dim=0)\n",
    "        c = torch.mean(c, dim=0)\n",
    "        out = (h+c)/2\n",
    "        return out\n",
    "\n",
    "    def forward(self, X1, X2):\n",
    "        out1 = self.forward_once(X1)\n",
    "        out2 = self.forward_once(X2)\n",
    "        return out1, out2\n",
    "        \n",
    "\n",
    "    def init_hidden(self, batch_size, device):\n",
    "\n",
    "        weight = next(self.parameters()).data\n",
    "\n",
    "        return (weight.new(2 * self.n_layers, batch_size, self.n_hidden).zero_().to(device),\n",
    "                weight.new(2 * self.n_layers, batch_size, self.n_hidden).zero_().to(device))\n"
   ]
  },
  {
   "cell_type": "code",
   "execution_count": 13,
   "metadata": {},
   "outputs": [],
   "source": [
    "class STSDataset(Dataset):\n",
    "    def __init__(self, vocab: Vocab, data):\n",
    "        self.sts_data = []\n",
    "\n",
    "        for x, y in zip(data['x'], data['y']):\n",
    "            s1, s2 = x\n",
    "            s1, s2 = vocab.sequencify(\n",
    "                s1, addEOSBOS=True), vocab.sequencify(s2, addEOSBOS=True)\n",
    "            self.sts_data.append(((s1, s2), y))\n",
    "\n",
    "    def __len__(self):\n",
    "        return len(self.sts_data)\n",
    "\n",
    "    def __getitem__(self, idx):\n",
    "        return self.sts_data[idx]\n"
   ]
  },
  {
   "cell_type": "code",
   "execution_count": 14,
   "metadata": {},
   "outputs": [],
   "source": [
    "ft_dataset = STSDataset(vocab, train_data)\n"
   ]
  },
  {
   "cell_type": "code",
   "execution_count": 15,
   "metadata": {},
   "outputs": [],
   "source": [
    "ft_dataloader = DataLoader(ft_dataset, batch_size=1,\n",
    "                           shuffle=True, collate_fn=lambda x: zip(*x))\n"
   ]
  },
  {
   "cell_type": "code",
   "execution_count": 16,
   "metadata": {},
   "outputs": [
    {
     "data": {
      "text/plain": [
       "SiameseLSTM(\n",
       "  (embedding): Embedding(12935, 100, padding_idx=0)\n",
       "  (lstm): LSTM(100, 128, num_layers=4, batch_first=True, dropout=0.2, bidirectional=True)\n",
       ")"
      ]
     },
     "execution_count": 16,
     "metadata": {},
     "output_type": "execute_result"
    }
   ],
   "source": [
    "lstm = SiameseLSTM(len(vocab), 4, EMBEDDING_DIM, 128, freeze_embeddings=True, embedding_state_dict='glove_state_dict.pkl')\n",
    "lstm.to(device)"
   ]
  },
  {
   "cell_type": "code",
   "execution_count": 17,
   "metadata": {},
   "outputs": [],
   "source": [
    "class SimilarityScore(nn.Module):\n",
    "\n",
    "    def __init__(self,dim=0):\n",
    "        super(SimilarityScore, self).__init__()\n",
    "        self.cos = nn.CosineSimilarity(dim=dim)\n",
    "\n",
    "    def __call__(self, v1, v2):\n",
    "        return self.cos(v1, v2) * 5"
   ]
  },
  {
   "cell_type": "code",
   "execution_count": 18,
   "metadata": {},
   "outputs": [],
   "source": [
    "def train(model:SiameseLSTM, dataloader:DataLoader, device:torch.device, n_epochs:int=5, unfreeze_at=None)->None:\n",
    "\n",
    "    metric = SimilarityScore(dim=0)\n",
    "    criterion = nn.MSELoss()\n",
    "    optimizer = optim.Adam(model.parameters())\n",
    "    model.train()\n",
    "\n",
    "    for param in model.embedding.parameters():\n",
    "        param.requires_grad = False\n",
    "\n",
    "    for e in range(n_epochs):\n",
    "        loss_val = 0\n",
    "\n",
    "        if unfreeze_at is not None and e + 1 == unfreeze_at:\n",
    "            for param in model.embedding.parameters():\n",
    "                param.requires_grad = True\n",
    "                \n",
    "        for X, y in dataloader:\n",
    "            s1, s2 = X[0]\n",
    "            s1 = torch.tensor(s1).long().to(device).unsqueeze(0)\n",
    "            s2 = torch.tensor(s2).long().to(device).unsqueeze(0)\n",
    "\n",
    "            y = torch.tensor(y).float().to(device).squeeze(0)\n",
    "\n",
    "            optimizer.zero_grad()\n",
    "\n",
    "            emb1, emb2 = model(s1, s2)\n",
    "            emb1 = emb1.squeeze(0)\n",
    "            emb2 = emb2.squeeze(0)\n",
    "            sim = metric(emb1, emb2)\n",
    "            loss = criterion(sim, y)\n",
    "            loss.backward()\n",
    "            optimizer.step()\n",
    "\n",
    "            loss_val += loss.item()\n",
    "\n",
    "        print(f\"Epoch {e+1}, Train Loss: {loss_val/len(dataloader)}\")\n",
    "    "
   ]
  },
  {
   "cell_type": "code",
   "execution_count": 19,
   "metadata": {},
   "outputs": [
    {
     "name": "stdout",
     "output_type": "stream",
     "text": [
      "Epoch 1, Train Loss: 1.7034738931139928\n",
      "Epoch 2, Train Loss: 1.1022716464957352\n",
      "Epoch 3, Train Loss: 0.8815826892650231\n",
      "Epoch 4, Train Loss: 0.7146625629758963\n",
      "Epoch 5, Train Loss: 0.6060787078924045\n",
      "Epoch 6, Train Loss: 0.5042802250590922\n",
      "Epoch 7, Train Loss: 0.4227517997651721\n",
      "Epoch 8, Train Loss: 0.3530248109038238\n",
      "Epoch 9, Train Loss: 0.31481209309030234\n",
      "Epoch 10, Train Loss: 0.2538487521939406\n",
      "Epoch 11, Train Loss: 0.22423000068961135\n",
      "Epoch 12, Train Loss: 0.19320417110493843\n",
      "Epoch 13, Train Loss: 0.16498353537357807\n",
      "Epoch 14, Train Loss: 0.14819584930385998\n",
      "Epoch 15, Train Loss: 0.13385338591017432\n"
     ]
    }
   ],
   "source": [
    "train(lstm, ft_dataloader, device, 15)"
   ]
  },
  {
   "cell_type": "code",
   "execution_count": 20,
   "metadata": {},
   "outputs": [],
   "source": [
    "def get_embeddings(model:SiameseLSTM, device:torch.device, s1:torch.tensor, s2:torch.tensor):\n",
    "\n",
    "    model.eval()\n",
    "    s1 = torch.tensor(s1).long().to(device).unsqueeze(0)\n",
    "    s2 = torch.tensor(s2).long().to(device).unsqueeze(0)\n",
    "    emb1, emb2 = model(s1, s2)\n",
    "    return emb1.squeeze(0).detach().cpu().numpy(), emb2.squeeze(0).detach().cpu().numpy()\n"
   ]
  },
  {
   "cell_type": "code",
   "execution_count": 21,
   "metadata": {},
   "outputs": [],
   "source": [
    "context_preds = []\n",
    "\n",
    "for pair in test_data['x']:\n",
    "    s1, s2 = vocab.sequencify(pair[0]), vocab.sequencify(pair[1])\n",
    "    \n",
    "    emb1, emb2 = get_embeddings(lstm, device, s1, s2)\n",
    "\n",
    "    score = cosine(emb1, emb2) * 5\n",
    "    context_preds.append(score)\n"
   ]
  },
  {
   "cell_type": "code",
   "execution_count": 22,
   "metadata": {},
   "outputs": [
    {
     "name": "stdout",
     "output_type": "stream",
     "text": [
      "Pearson Score for LSTM Model (from hidden state) with Cosine Finetuning: 0.7873\n"
     ]
    }
   ],
   "source": [
    "pearson_score, _ = pearsonr(context_preds, test_data['y'])\n",
    "print(f'Pearson Score for LSTM Model (from hidden state) with Cosine Finetuning: {pearson_score:.4f}')\n"
   ]
  }
 ],
 "metadata": {
  "interpreter": {
   "hash": "f3ebefefc6aaf644093121d8e5202d868a7e59c8d807fbf6949f2a61cd748adb"
  },
  "kernelspec": {
   "display_name": "Python 3.9.12 ('pytorch')",
   "language": "python",
   "name": "python3"
  },
  "language_info": {
   "codemirror_mode": {
    "name": "ipython",
    "version": 3
   },
   "file_extension": ".py",
   "mimetype": "text/x-python",
   "name": "python",
   "nbconvert_exporter": "python",
   "pygments_lexer": "ipython3",
   "version": "3.9.12"
  },
  "orig_nbformat": 4
 },
 "nbformat": 4,
 "nbformat_minor": 2
}
