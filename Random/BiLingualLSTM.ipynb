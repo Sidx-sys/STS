{
 "cells": [
  {
   "cell_type": "code",
   "execution_count": 1,
   "metadata": {},
   "outputs": [],
   "source": [
    "import pickle\n",
    "from scipy.stats import pearsonr\n",
    "\n",
    "from src.utils import cosine\n",
    "import numpy as np\n",
    "from tqdm import tqdm\n"
   ]
  },
  {
   "cell_type": "code",
   "execution_count": 2,
   "metadata": {},
   "outputs": [],
   "source": [
    "with open('data/en_es/train_data_cross.pkl', 'rb') as f:\n",
    "    train_data = pickle.load(f)\n"
   ]
  },
  {
   "cell_type": "code",
   "execution_count": 3,
   "metadata": {},
   "outputs": [],
   "source": [
    "with open('data/en_es/test_data_cross.pkl', 'rb') as f:\n",
    "    test_data = pickle.load(f)\n"
   ]
  },
  {
   "cell_type": "code",
   "execution_count": 4,
   "metadata": {},
   "outputs": [],
   "source": [
    "import torch\n",
    "import torch.nn as nn\n",
    "import torch.nn.functional as F\n",
    "import torch.optim as optim\n",
    "\n",
    "from torch.utils.data import Dataset, DataLoader\n",
    "from flair.embeddings import TransformerWordEmbeddings\n",
    "from flair.data import Sentence\n"
   ]
  },
  {
   "cell_type": "code",
   "execution_count": 5,
   "metadata": {},
   "outputs": [],
   "source": [
    "en_embedder = TransformerWordEmbeddings('roberta-base')"
   ]
  },
  {
   "cell_type": "code",
   "execution_count": 6,
   "metadata": {},
   "outputs": [],
   "source": [
    "es_embedder = TransformerWordEmbeddings('bertin-project/bertin-roberta-base-spanish')\n"
   ]
  },
  {
   "cell_type": "code",
   "execution_count": 7,
   "metadata": {},
   "outputs": [],
   "source": [
    "class BiLingualSTSDataset(Dataset):\n",
    "\n",
    "    def __init__(self, data):\n",
    "\n",
    "        self.embeddings = []\n",
    "        print(\"Generating Embeddings...\")\n",
    "        for s1, s2 in tqdm(data['x']):\n",
    "            s1 = Sentence(s1)\n",
    "            s2 = Sentence(s2)\n",
    "            e1 = [token.embedding for token in en_embedder.embed(s1)[0]]\n",
    "            e2 = [token.embedding for token in es_embedder.embed(s2)[0]]\n",
    "\n",
    "            e1 = torch.vstack(e1)\n",
    "            e2 = torch.vstack(e2)\n",
    "            self.embeddings.append((e1, e2))\n",
    "        self.labels = data['y']\n",
    "\n",
    "    def __len__(self):\n",
    "        return len(self.labels)\n",
    "\n",
    "    def __getitem__(self, idx):\n",
    "        return self.embeddings[idx], self.labels[idx]\n"
   ]
  },
  {
   "cell_type": "code",
   "execution_count": 8,
   "metadata": {},
   "outputs": [
    {
     "name": "stdout",
     "output_type": "stream",
     "text": [
      "Generating Embeddings...\n"
     ]
    },
    {
     "name": "stderr",
     "output_type": "stream",
     "text": [
      "100%|██████████| 8623/8623 [03:13<00:00, 44.59it/s]\n"
     ]
    }
   ],
   "source": [
    "train_dataset = BiLingualSTSDataset(train_data)\n",
    "train_dataloader = DataLoader(train_dataset, batch_size=1, shuffle=True)\n"
   ]
  },
  {
   "cell_type": "code",
   "execution_count": 9,
   "metadata": {},
   "outputs": [
    {
     "name": "stdout",
     "output_type": "stream",
     "text": [
      "Generating Embeddings...\n"
     ]
    },
    {
     "name": "stderr",
     "output_type": "stream",
     "text": [
      "100%|██████████| 250/250 [00:05<00:00, 45.16it/s]\n"
     ]
    }
   ],
   "source": [
    "test_dataset = BiLingualSTSDataset(test_data)\n",
    "test_dataloader = DataLoader(test_dataset, batch_size=1, shuffle=False)\n"
   ]
  },
  {
   "cell_type": "code",
   "execution_count": 10,
   "metadata": {},
   "outputs": [],
   "source": [
    "EMBEDDING_DIM = 768\n"
   ]
  },
  {
   "cell_type": "code",
   "execution_count": 11,
   "metadata": {},
   "outputs": [
    {
     "name": "stdout",
     "output_type": "stream",
     "text": [
      "Using Device: cuda\n"
     ]
    }
   ],
   "source": [
    "device = torch.device('cuda' if torch.cuda.is_available() else 'cpu')\n",
    "print(f\"Using Device: {device}\")\n"
   ]
  },
  {
   "cell_type": "code",
   "execution_count": 12,
   "metadata": {},
   "outputs": [],
   "source": [
    "class DualLSTM(nn.Module):\n",
    "    def __init__(self, n_layers, embedding_size, n_hidden=256, drop_prob=0.2):\n",
    "        super(DualLSTM, self).__init__()\n",
    "\n",
    "        self.embedding_size = embedding_size\n",
    "        self.drop_prob = drop_prob\n",
    "        self.n_hidden = n_hidden\n",
    "        self.n_layers = n_layers\n",
    "\n",
    "        self.en_lstm = nn.LSTM(self.embedding_size, self.n_hidden, self.n_layers,\n",
    "                            dropout=self.drop_prob, batch_first=True, bidirectional=True)\n",
    "        \n",
    "        self.es_lstm = nn.LSTM(self.embedding_size, self.n_hidden, self.n_layers,\n",
    "                            dropout=self.drop_prob, batch_first=True, bidirectional=True)\n",
    "        \n",
    "\n",
    "\n",
    "    def forward_once(self, X, lang):\n",
    "        if lang == 'en':\n",
    "            _, (h, c) = self.en_lstm(X)\n",
    "        else:\n",
    "            _, (h,c) = self.es_lstm(X)\n",
    "        h = torch.mean(h, dim=0)\n",
    "        c = torch.mean(c, dim=0)\n",
    "        out = (h + c) / 2\n",
    "        return out\n",
    "\n",
    "    def forward(self, X1, X2):\n",
    "        out1 = self.forward_once(X1, 'en')\n",
    "        out2 = self.forward_once(X2, 'es')\n",
    "        return out1, out2\n"
   ]
  },
  {
   "cell_type": "code",
   "execution_count": 13,
   "metadata": {},
   "outputs": [
    {
     "data": {
      "text/plain": [
       "DualLSTM(\n",
       "  (en_lstm): LSTM(768, 128, num_layers=2, batch_first=True, dropout=0.2, bidirectional=True)\n",
       "  (es_lstm): LSTM(768, 128, num_layers=2, batch_first=True, dropout=0.2, bidirectional=True)\n",
       ")"
      ]
     },
     "execution_count": 13,
     "metadata": {},
     "output_type": "execute_result"
    }
   ],
   "source": [
    "dual_lstm = DualLSTM(2, EMBEDDING_DIM, 128)\n",
    "dual_lstm.to(device)"
   ]
  },
  {
   "cell_type": "code",
   "execution_count": 14,
   "metadata": {},
   "outputs": [],
   "source": [
    "class SimilarityScore(nn.Module):\n",
    "\n",
    "    def __init__(self, dim=0):\n",
    "        super(SimilarityScore, self).__init__()\n",
    "        self.cos = nn.CosineSimilarity(dim=dim)\n",
    "\n",
    "    def __call__(self, v1, v2):\n",
    "        return self.cos(v1, v2) * 5\n"
   ]
  },
  {
   "cell_type": "code",
   "execution_count": 15,
   "metadata": {},
   "outputs": [],
   "source": [
    "def train(model: DualLSTM, dataloader: DataLoader, device: torch.device, n_epochs: int = 5) -> None:\n",
    "\n",
    "    metric = SimilarityScore(dim=0)\n",
    "    criterion = nn.MSELoss()\n",
    "    optimizer = optim.Adam(model.parameters())\n",
    "\n",
    "    for e in range(n_epochs):\n",
    "        loss_val = 0\n",
    "\n",
    "        model.train()\n",
    "        for X in dataloader:\n",
    "            s1, s2 = X[0][0].float().to(device), X[0][1].float().to(device)\n",
    "            y = X[1].float().to(device).squeeze(0)\n",
    "\n",
    "            optimizer.zero_grad()\n",
    "\n",
    "            emb1, emb2 = model(s1, s2)\n",
    "            emb1 = emb1.squeeze()\n",
    "            emb2 = emb2.squeeze()\n",
    "            sim = metric(emb1, emb2)\n",
    "            loss = criterion(sim, y)\n",
    "            loss.backward()\n",
    "            optimizer.step()\n",
    "\n",
    "            loss_val += loss.item()\n",
    "\n",
    "        print(f\"Epoch {e+1}, Train Loss: {loss_val/len(dataloader)}\")"
   ]
  },
  {
   "cell_type": "code",
   "execution_count": 16,
   "metadata": {},
   "outputs": [
    {
     "name": "stdout",
     "output_type": "stream",
     "text": [
      "Epoch 1, Train Loss: 2.0630524527706418\n",
      "Epoch 2, Train Loss: 1.8628994389545726\n"
     ]
    }
   ],
   "source": [
    "train(dual_lstm, train_dataloader, device, n_epochs=2)\n"
   ]
  },
  {
   "cell_type": "code",
   "execution_count": 17,
   "metadata": {},
   "outputs": [],
   "source": [
    "y_true = []\n",
    "y_pred = []\n",
    "\n",
    "dual_lstm.eval()\n",
    "with torch.no_grad():\n",
    "    for X in test_dataloader:\n",
    "        s1, s2 = X[0][0].float().to(device), X[0][1].float().to(device)\n",
    "        y = X[1].float().to(device).squeeze(0)\n",
    "\n",
    "        y_true.append(y.detach().cpu().numpy().item())\n",
    "        emb1, emb2 = dual_lstm(s1, s2)\n",
    "        emb1 = emb1.squeeze().detach().cpu().numpy()\n",
    "        emb2 = emb2.squeeze().detach().cpu().numpy()\n",
    "\n",
    "        score = cosine(emb1, emb2) * 5\n",
    "        y_pred.append(score)\n",
    "\n",
    "\n"
   ]
  },
  {
   "cell_type": "code",
   "execution_count": 18,
   "metadata": {},
   "outputs": [
    {
     "name": "stdout",
     "output_type": "stream",
     "text": [
      "Pearson Score for BiLSTM (with RoBERTa Encodings): 0.2191\n"
     ]
    }
   ],
   "source": [
    "pearson_score, _ = pearsonr(y_pred, y_true)\n",
    "print(f'Pearson Score for BiLSTM (with RoBERTa Encodings): {pearson_score:.4f}')\n"
   ]
  },
  {
   "cell_type": "code",
   "execution_count": 19,
   "metadata": {},
   "outputs": [],
   "source": [
    "torch.save(dual_lstm.state_dict(), 'models/cross_bilstm.pt')"
   ]
  }
 ],
 "metadata": {
  "interpreter": {
   "hash": "f3ebefefc6aaf644093121d8e5202d868a7e59c8d807fbf6949f2a61cd748adb"
  },
  "kernelspec": {
   "display_name": "Python 3.9.12 ('pytorch')",
   "language": "python",
   "name": "python3"
  },
  "language_info": {
   "codemirror_mode": {
    "name": "ipython",
    "version": 3
   },
   "file_extension": ".py",
   "mimetype": "text/x-python",
   "name": "python",
   "nbconvert_exporter": "python",
   "pygments_lexer": "ipython3",
   "version": "3.9.12"
  },
  "orig_nbformat": 4
 },
 "nbformat": 4,
 "nbformat_minor": 2
}
