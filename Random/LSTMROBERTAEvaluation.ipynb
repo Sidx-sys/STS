{
 "cells": [
  {
   "cell_type": "code",
   "execution_count": 1,
   "metadata": {},
   "outputs": [],
   "source": [
    "import pickle\n",
    "from scipy.stats import pearsonr\n",
    "\n",
    "from src.utils import cosine\n",
    "import numpy as np\n",
    "from tqdm import tqdm"
   ]
  },
  {
   "cell_type": "code",
   "execution_count": 2,
   "metadata": {},
   "outputs": [],
   "source": [
    "with open('data/en_en/train_data.pkl', 'rb') as f:\n",
    "    train_data = pickle.load(f)\n"
   ]
  },
  {
   "cell_type": "code",
   "execution_count": 3,
   "metadata": {},
   "outputs": [],
   "source": [
    "with open('data/en_en/test_data.pkl', 'rb') as f:\n",
    "    test_data = pickle.load(f)\n"
   ]
  },
  {
   "cell_type": "code",
   "execution_count": 4,
   "metadata": {},
   "outputs": [],
   "source": [
    "import torch\n",
    "import torch.nn as nn\n",
    "import torch.nn.functional as F\n",
    "import torch.optim as optim\n",
    "\n",
    "from torch.utils.data import Dataset, DataLoader\n",
    "from flair.embeddings import TransformerWordEmbeddings\n",
    "from flair.data import Sentence"
   ]
  },
  {
   "cell_type": "code",
   "execution_count": 5,
   "metadata": {},
   "outputs": [],
   "source": [
    "embedder = TransformerWordEmbeddings('roberta-base')"
   ]
  },
  {
   "cell_type": "code",
   "execution_count": 6,
   "metadata": {},
   "outputs": [],
   "source": [
    "class STSDataset(Dataset):\n",
    "\n",
    "    def __init__(self, data):\n",
    "\n",
    "        self.embeddings = []\n",
    "        print(\"Generating Embeddings...\")\n",
    "        for s1, s2 in tqdm(data['x']):\n",
    "            s1 = Sentence(s1)\n",
    "            s2 = Sentence(s2)            \n",
    "            e1 = [token.embedding for token in embedder.embed(s1)[0]]\n",
    "            e2 = [token.embedding for token in embedder.embed(s2)[0]]\n",
    "\n",
    "            e1 = torch.vstack(e1)\n",
    "            e2 = torch.vstack(e2)\n",
    "            self.embeddings.append((e1, e2))\n",
    "        self.labels = data['y']\n",
    "\n",
    "    def __len__(self):\n",
    "        return len(self.labels)\n",
    "\n",
    "    def __getitem__(self,idx):\n",
    "        return self.embeddings[idx], self.labels[idx]\n"
   ]
  },
  {
   "cell_type": "code",
   "execution_count": 7,
   "metadata": {},
   "outputs": [
    {
     "name": "stdout",
     "output_type": "stream",
     "text": [
      "Generating Embeddings...\n"
     ]
    },
    {
     "name": "stderr",
     "output_type": "stream",
     "text": [
      "100%|██████████| 3825/3825 [01:23<00:00, 45.72it/s]\n"
     ]
    }
   ],
   "source": [
    "train_dataset = STSDataset(train_data)\n",
    "train_dataloader = DataLoader(train_dataset, batch_size=1, shuffle=True)"
   ]
  },
  {
   "cell_type": "code",
   "execution_count": 8,
   "metadata": {},
   "outputs": [
    {
     "name": "stdout",
     "output_type": "stream",
     "text": [
      "Generating Embeddings...\n"
     ]
    },
    {
     "name": "stderr",
     "output_type": "stream",
     "text": [
      "100%|██████████| 675/675 [00:14<00:00, 47.02it/s]\n"
     ]
    }
   ],
   "source": [
    "test_dataset = STSDataset(test_data)\n",
    "test_dataloader = DataLoader(test_dataset, batch_size=1, shuffle=False)"
   ]
  },
  {
   "cell_type": "code",
   "execution_count": 9,
   "metadata": {},
   "outputs": [],
   "source": [
    "EMBEDDING_DIM = 768"
   ]
  },
  {
   "cell_type": "code",
   "execution_count": 10,
   "metadata": {},
   "outputs": [
    {
     "name": "stdout",
     "output_type": "stream",
     "text": [
      "Using Device: cuda\n"
     ]
    }
   ],
   "source": [
    "device = torch.device('cuda' if torch.cuda.is_available() else 'cpu')\n",
    "print(f\"Using Device: {device}\")\n"
   ]
  },
  {
   "cell_type": "code",
   "execution_count": 11,
   "metadata": {},
   "outputs": [],
   "source": [
    "class SiameseLSTM(nn.Module):\n",
    "    def __init__(self, n_layers, embedding_size, n_hidden=256, drop_prob=0.2):\n",
    "        super(SiameseLSTM, self).__init__()\n",
    "\n",
    "        self.embedding_size = embedding_size\n",
    "        self.drop_prob = drop_prob\n",
    "        self.n_hidden = n_hidden\n",
    "        self.n_layers = n_layers\n",
    "\n",
    "        self.lstm = nn.LSTM(self.embedding_size, self.n_hidden, self.n_layers,\n",
    "                            dropout=self.drop_prob, batch_first=True, bidirectional=True)\n",
    "\n",
    "    def forward_once(self, X):\n",
    "        _, (h, c) = self.lstm(X)\n",
    "        h = torch.mean(h, dim=0)\n",
    "        c = torch.mean(c, dim=0)\n",
    "        out = (h + c) / 2\n",
    "        return out\n",
    "\n",
    "    def forward(self, X1, X2):\n",
    "        out1 = self.forward_once(X1)\n",
    "        out2 = self.forward_once(X2)\n",
    "        return out1, out2\n"
   ]
  },
  {
   "cell_type": "code",
   "execution_count": 12,
   "metadata": {},
   "outputs": [
    {
     "data": {
      "text/plain": [
       "SiameseLSTM(\n",
       "  (lstm): LSTM(768, 256, num_layers=2, batch_first=True, dropout=0.2, bidirectional=True)\n",
       ")"
      ]
     },
     "execution_count": 12,
     "metadata": {},
     "output_type": "execute_result"
    }
   ],
   "source": [
    "lstm = SiameseLSTM(2, EMBEDDING_DIM, 256)\n",
    "lstm.to(device)"
   ]
  },
  {
   "cell_type": "code",
   "execution_count": 13,
   "metadata": {},
   "outputs": [],
   "source": [
    "class SimilarityScore(nn.Module):\n",
    "\n",
    "    def __init__(self, dim=0):\n",
    "        super(SimilarityScore, self).__init__()\n",
    "        self.cos = nn.CosineSimilarity(dim=dim)\n",
    "\n",
    "    def __call__(self, v1, v2):\n",
    "        return self.cos(v1, v2) * 5\n"
   ]
  },
  {
   "cell_type": "code",
   "execution_count": 14,
   "metadata": {},
   "outputs": [],
   "source": [
    "def train(model:SiameseLSTM, dataloader:DataLoader, device:torch.device, n_epochs:int=5)->None:\n",
    "\n",
    "    metric = SimilarityScore(dim=0)\n",
    "    criterion = nn.MSELoss()\n",
    "    optimizer = optim.Adam(model.parameters())\n",
    "    model.train()\n",
    "\n",
    "    for e in range(n_epochs):\n",
    "        loss_val = 0\n",
    "\n",
    "        for X in dataloader:\n",
    "            s1, s2 = X[0][0].float().to(device), X[0][1].float().to(device)\n",
    "            y = X[1].float().to(device).squeeze(0)\n",
    "\n",
    "            optimizer.zero_grad()\n",
    "\n",
    "            emb1, emb2 = model(s1, s2)\n",
    "            emb1 = emb1.squeeze()\n",
    "            emb2 = emb2.squeeze()\n",
    "            sim = metric(emb1, emb2)\n",
    "            loss = criterion(sim, y)\n",
    "            loss.backward()\n",
    "            optimizer.step()\n",
    "\n",
    "            loss_val += loss.item()\n",
    "\n",
    "        print(f\"Epoch {e+1}, Train Loss: {loss_val/len(dataloader)}\")\n"
   ]
  },
  {
   "cell_type": "code",
   "execution_count": 15,
   "metadata": {},
   "outputs": [
    {
     "name": "stdout",
     "output_type": "stream",
     "text": [
      "Epoch 1, Train Loss: 0.9054229341870733\n",
      "Epoch 2, Train Loss: 0.46877143403948046\n",
      "Epoch 3, Train Loss: 0.3316300269227287\n",
      "Epoch 4, Train Loss: 0.2653651787698175\n",
      "Epoch 5, Train Loss: 0.20151675954032447\n",
      "Epoch 6, Train Loss: 0.16784510255437274\n",
      "Epoch 7, Train Loss: 0.14144984973393895\n",
      "Epoch 8, Train Loss: 0.11969690452203272\n",
      "Epoch 9, Train Loss: 0.10623940005046302\n",
      "Epoch 10, Train Loss: 0.09702819687004856\n",
      "Epoch 11, Train Loss: 0.08452992241102887\n",
      "Epoch 12, Train Loss: 0.07857235838796638\n",
      "Epoch 13, Train Loss: 0.07200607166368136\n",
      "Epoch 14, Train Loss: 0.06562606786975009\n",
      "Epoch 15, Train Loss: 0.0620028781504852\n"
     ]
    }
   ],
   "source": [
    "train(lstm, train_dataloader, device, n_epochs=15)"
   ]
  },
  {
   "cell_type": "code",
   "execution_count": 16,
   "metadata": {},
   "outputs": [],
   "source": [
    "y_true = []\n",
    "y_pred = []\n",
    "\n",
    "lstm.eval()\n",
    "with torch.no_grad():\n",
    "    for X in test_dataloader:\n",
    "        s1, s2 = X[0][0].float().to(device), X[0][1].float().to(device)\n",
    "        y = X[1].float().to(device).squeeze(0)\n",
    "\n",
    "        y_true.append(y.detach().cpu().numpy().item())\n",
    "        emb1, emb2 = lstm(s1, s2)\n",
    "        emb1 = emb1.squeeze().detach().cpu().numpy()\n",
    "        emb2 = emb2.squeeze().detach().cpu().numpy()\n",
    "\n",
    "        score = cosine(emb1, emb2) * 5\n",
    "        y_pred.append(score)\n"
   ]
  },
  {
   "cell_type": "code",
   "execution_count": 17,
   "metadata": {},
   "outputs": [
    {
     "name": "stdout",
     "output_type": "stream",
     "text": [
      "Pearson Score for LSTM Model (with ROBERTA Embeddings): 0.8601\n"
     ]
    }
   ],
   "source": [
    "pearson_score, _ = pearsonr(y_pred, y_true)\n",
    "print(f'Pearson Score for LSTM Model (with ROBERTA Embeddings): {pearson_score:.4f}')\n"
   ]
  }
 ],
 "metadata": {
  "interpreter": {
   "hash": "f3ebefefc6aaf644093121d8e5202d868a7e59c8d807fbf6949f2a61cd748adb"
  },
  "kernelspec": {
   "display_name": "Python 3.9.12 ('pytorch')",
   "language": "python",
   "name": "python3"
  },
  "language_info": {
   "codemirror_mode": {
    "name": "ipython",
    "version": 3
   },
   "file_extension": ".py",
   "mimetype": "text/x-python",
   "name": "python",
   "nbconvert_exporter": "python",
   "pygments_lexer": "ipython3",
   "version": "3.9.12"
  },
  "orig_nbformat": 4
 },
 "nbformat": 4,
 "nbformat_minor": 2
}
