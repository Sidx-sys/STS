{
 "cells": [
  {
   "cell_type": "code",
   "execution_count": 96,
   "metadata": {},
   "outputs": [],
   "source": [
    "import torch\n",
    "import torch.nn as nn\n",
    "\n",
    "from torchtext.data.utils import get_tokenizer\n",
    "from torchtext.vocab import vocab\n",
    "from torch.nn.utils.rnn import pad_sequence\n",
    "from torch.utils.data import DataLoader\n",
    "\n",
    "import numpy as np\n",
    "\n",
    "import random\n",
    "import math\n",
    "import time\n",
    "import pickle\n",
    "import re\n",
    "from collections import Counter\n",
    "import scipy"
   ]
  },
  {
   "cell_type": "code",
   "execution_count": 2,
   "metadata": {},
   "outputs": [
    {
     "name": "stdout",
     "output_type": "stream",
     "text": [
      "60265 8000\n"
     ]
    }
   ],
   "source": [
    "with open('data/base_text_data.pkl', 'rb') as f:\n",
    "    train_data = pickle.load(f)\n",
    "with open('data/Multi-30k/train.en') as f:\n",
    "    data = [x.strip() for x in f.readlines()]\n",
    "dev_data = data[-8000:]\n",
    "print(len(train_data), len(dev_data))"
   ]
  },
  {
   "cell_type": "code",
   "execution_count": 27,
   "metadata": {},
   "outputs": [],
   "source": [
    "punctuations = [r'\\.', r'\\.{2,}',\n",
    "                             r'\\!+', r'\\:+', r'\\;+', r'\\\"+', r\"\\'+\", r'\\?+', r'\\,+', r'\\(|\\)|\\[|\\]|\\{|\\}|\\<|\\>']\n",
    "def clean(line):\n",
    "    for pattern in punctuations:\n",
    "        line = re.sub(pattern, '', line)\n",
    "    line = re.sub(r'[^a-z]', ' ', line.lower())\n",
    "    return line\n",
    "\n",
    "for i, dat in enumerate(train_data):\n",
    "    train_data[i] = clean(dat)\n",
    "    \n",
    "for i, dat in enumerate(dev_data):\n",
    "    dev_data[i] = clean(dat)"
   ]
  },
  {
   "cell_type": "code",
   "execution_count": 28,
   "metadata": {},
   "outputs": [],
   "source": [
    "tokenizer = get_tokenizer('spacy', language='en_core_web_sm')"
   ]
  },
  {
   "cell_type": "code",
   "execution_count": 29,
   "metadata": {},
   "outputs": [],
   "source": [
    "def build_vocab(data, tokenizer):\n",
    "    counter = Counter()\n",
    "    for sent in data:\n",
    "        counter.update(tokenizer(sent))\n",
    "\n",
    "    vocab_obj = vocab(counter, specials=['<unk>', '<pad>', '<bos>', '<eos>'])\n",
    "    vocab_obj.set_default_index(vocab_obj['<unk>'])\n",
    "\n",
    "    return vocab_obj"
   ]
  },
  {
   "cell_type": "code",
   "execution_count": 30,
   "metadata": {},
   "outputs": [],
   "source": [
    "vocabulary = build_vocab(train_data, tokenizer)"
   ]
  },
  {
   "cell_type": "code",
   "execution_count": 31,
   "metadata": {},
   "outputs": [],
   "source": [
    "def data_process(data):\n",
    "    _data = []\n",
    "    for raw in data:\n",
    "        tokens = tokenizer(raw)\n",
    "        inp_tensor = torch.tensor([vocabulary[token] for token in tokens[:-1]], dtype=torch.long)\n",
    "        trg_tensor = torch.tensor([vocabulary[token] for token in tokens[1:]], dtype=torch.long)\n",
    "        _data.append((inp_tensor, trg_tensor))\n",
    "\n",
    "    return _data"
   ]
  },
  {
   "cell_type": "code",
   "execution_count": 32,
   "metadata": {},
   "outputs": [],
   "source": [
    "tok_train_data = data_process(train_data)\n",
    "tok_dev_data = data_process(dev_data)"
   ]
  },
  {
   "cell_type": "code",
   "execution_count": 33,
   "metadata": {},
   "outputs": [
    {
     "data": {
      "text/plain": [
       "device(type='cuda')"
      ]
     },
     "execution_count": 33,
     "metadata": {},
     "output_type": "execute_result"
    }
   ],
   "source": [
    "device = torch.device('cuda' if torch.cuda.is_available() else 'cpu')\n",
    "device"
   ]
  },
  {
   "cell_type": "code",
   "execution_count": 35,
   "metadata": {},
   "outputs": [],
   "source": [
    "BATCH_SIZE = 32\n",
    "PAD_IDX = vocabulary['<pad>']\n",
    "BOS_IDX = vocabulary['<bos>']\n",
    "EOS_IDX = vocabulary['<eos>']"
   ]
  },
  {
   "cell_type": "code",
   "execution_count": 36,
   "metadata": {},
   "outputs": [],
   "source": [
    "def generate_batch(data_batch):\n",
    "    src_batch, trg_batch = [], []\n",
    "    for (src_item, trg_item) in data_batch:\n",
    "        src_batch.append(torch.cat([torch.tensor([BOS_IDX]), src_item, torch.tensor([EOS_IDX])], dim=0))\n",
    "        trg_batch.append(torch.cat([torch.tensor([BOS_IDX]), trg_item, torch.tensor([EOS_IDX])], dim=0))\n",
    "    src_batch = pad_sequence(src_batch, padding_value=PAD_IDX)\n",
    "    trg_batch = pad_sequence(trg_batch, padding_value=PAD_IDX)\n",
    "\n",
    "    return src_batch, trg_batch"
   ]
  },
  {
   "cell_type": "code",
   "execution_count": 37,
   "metadata": {},
   "outputs": [],
   "source": [
    "train_dataloader = DataLoader(tok_train_data, batch_size=BATCH_SIZE, shuffle=True, collate_fn=generate_batch, drop_last=True)\n",
    "dev_dataloader = DataLoader(tok_dev_data, batch_size=BATCH_SIZE, shuffle=True, collate_fn=generate_batch, drop_last=True)"
   ]
  },
  {
   "cell_type": "code",
   "execution_count": 38,
   "metadata": {},
   "outputs": [],
   "source": [
    "class EncoderModel(nn.Module):\n",
    "    def __init__(self, vocab_len, device, dropout_prob=0.2, bidirectional=True):\n",
    "        super(EncoderModel, self).__init__()\n",
    "        self.rnn_size = 512\n",
    "        self.embedding_dim = 128\n",
    "        self.num_layers = 2\n",
    "        self.num_directions = 2 if bidirectional else 1\n",
    "        self.device = device\n",
    "\n",
    "        self.embedding = nn.Embedding(\n",
    "            num_embeddings = vocab_len,\n",
    "            embedding_dim = self.embedding_dim,\n",
    "        )\n",
    "        self.rnn = nn.LSTM(\n",
    "            input_size = self.embedding_dim,\n",
    "            hidden_size = self.rnn_size,\n",
    "            num_layers = self.num_layers,\n",
    "            bidirectional=bidirectional,\n",
    "            dropout = dropout_prob\n",
    "        )\n",
    "        self.dropout = nn.Dropout(dropout_prob)\n",
    "        self.fc = nn.Linear(self.num_directions * self.rnn_size, vocab_len)\n",
    "\n",
    "    def forward(self, x):\n",
    "        batch_size = x.shape[1]\n",
    "        hidden_state = self.init_state(batch_size)\n",
    "        \n",
    "        embed = self.embedding(x)\n",
    "        output, state = self.rnn(embed, hidden_state)\n",
    "        output = self.dropout(output)\n",
    "        logits = self.fc(output)\n",
    "        return logits, state\n",
    "\n",
    "    def init_state(self, batch_size):\n",
    "        return torch.zeros(self.num_directions * self.num_layers, batch_size, self.rnn_size).to(self.device)"
   ]
  },
  {
   "cell_type": "code",
   "execution_count": 42,
   "metadata": {},
   "outputs": [],
   "source": [
    "model = EncoderModel(len(vocabulary), device=device)\n",
    "model = model.to(device)"
   ]
  },
  {
   "cell_type": "code",
   "execution_count": 40,
   "metadata": {},
   "outputs": [],
   "source": [
    "def train_evaluate(model, num_epochs=3):\n",
    "    loss_fn = nn.CrossEntropyLoss(ignore_index=PAD_IDX)\n",
    "    optimizer = torch.optim.Adam(model.parameters(), lr=1e-3)\n",
    "\n",
    "    for epoch in range(num_epochs):\n",
    "        # Training\n",
    "        model.train()\n",
    "        print(f\"Epoch: {epoch}\")\n",
    "        loss_val = 0 \n",
    "        for x, y in train_dataloader:\n",
    "            x = x.to(device)\n",
    "            y = y.to(device)\n",
    "            \n",
    "            optimizer.zero_grad()\n",
    "\n",
    "            pred, state_h = model(x)\n",
    "            loss = loss_fn(pred.transpose(1, 2), y)\n",
    "\n",
    "            loss.backward()\n",
    "            optimizer.step()\n",
    "            \n",
    "            loss_val += loss.item()\n",
    "        print(f\"Train Loss: {loss_val/len(train_dataloader)}, Train PPL: {2**(loss_val/len(train_dataloader))}\")\n",
    "\n",
    "        # Validation\n",
    "        model.train()\n",
    "        with torch.no_grad():\n",
    "            loss_val = 0 \n",
    "            for x, y in dev_dataloader:\n",
    "                x = x.to(device)\n",
    "                y = y.to(device)\n",
    "                optimizer.zero_grad()\n",
    "\n",
    "                pred, state_h = model(x)\n",
    "                loss = loss_fn(pred.transpose(1, 2), y)\n",
    "                \n",
    "                loss_val += loss.item()\n",
    "            print(f\"Dev Loss: {loss_val/len(dev_dataloader)}, Dev PPL: {2**(loss_val/len(dev_dataloader))}\")"
   ]
  },
  {
   "cell_type": "code",
   "execution_count": 46,
   "metadata": {},
   "outputs": [
    {
     "name": "stdout",
     "output_type": "stream",
     "text": [
      "Epoch: 0\n",
      "Train Loss: 0.4423317674149779, Train PPL: 1.3587987229344551\n",
      "Dev Loss: 0.6440360325574875, Dev PPL: 1.562694789512324\n"
     ]
    }
   ],
   "source": [
    "train_evaluate(model, num_epochs=1)"
   ]
  },
  {
   "cell_type": "code",
   "execution_count": 49,
   "metadata": {},
   "outputs": [],
   "source": [
    "with open('biGRU_5ep.pkl', 'wb') as f:\n",
    "    pickle.dump(model, f)"
   ]
  },
  {
   "cell_type": "code",
   "execution_count": 44,
   "metadata": {},
   "outputs": [],
   "source": [
    "def predict(vocab, tokenizer, model, seed_text, num_to_predict=4):\n",
    "    model.to(device)\n",
    "    model.eval()\n",
    "\n",
    "    print(f\"Provided Input -> {seed_text}\")\n",
    "    sent = clean(seed_text)\n",
    "    probs = []\n",
    "\n",
    "    for _ in range(num_to_predict):\n",
    "        seed_sent = sent\n",
    "\n",
    "        x = torch.tensor([[vocab[token] for token in tokenizer(seed_sent)]], dtype=torch.long).to(device)\n",
    "        x = x.t()\n",
    "\n",
    "        y_pred, state_h = model(x)\n",
    "        y_pred = y_pred.squeeze(1)\n",
    "        last_word_logits = y_pred[-1].cpu()\n",
    "\n",
    "        prob_dist = torch.nn.functional.softmax(last_word_logits, dim=0).detach().numpy()\n",
    "        word_index = np.argmax(prob_dist)\n",
    "        \n",
    "        probs.append((vocab.get_itos()[word_index], prob_dist[word_index]))\n",
    "        sent += f\" {vocab.get_itos()[word_index]}\"\n",
    "\n",
    "    return sent, probs"
   ]
  },
  {
   "cell_type": "code",
   "execution_count": 51,
   "metadata": {},
   "outputs": [
    {
     "name": "stdout",
     "output_type": "stream",
     "text": [
      "Provided Input -> Five people\n"
     ]
    },
    {
     "data": {
      "text/plain": [
       "('five people marching band stool etc',\n",
       " [('marching', 0.09523961),\n",
       "  ('band', 0.09642078),\n",
       "  ('stool', 0.045894906),\n",
       "  ('etc', 0.027783073)])"
      ]
     },
     "execution_count": 51,
     "metadata": {},
     "output_type": "execute_result"
    }
   ],
   "source": [
    "predict(vocabulary, tokenizer, model, \"Five people\")"
   ]
  },
  {
   "cell_type": "code",
   "execution_count": 48,
   "metadata": {},
   "outputs": [
    {
     "name": "stdout",
     "output_type": "stream",
     "text": [
      "Provided Input -> I am\n"
     ]
    },
    {
     "data": {
      "text/plain": [
       "('i am delighted it approved date',\n",
       " [('delighted', 0.19852068),\n",
       "  ('it', 0.37268147),\n",
       "  ('approved', 0.06063961),\n",
       "  ('date', 0.034026783)])"
      ]
     },
     "execution_count": 48,
     "metadata": {},
     "output_type": "execute_result"
    }
   ],
   "source": [
    "predict(vocabulary, tokenizer, model, \"I am\")"
   ]
  },
  {
   "cell_type": "code",
   "execution_count": 136,
   "metadata": {},
   "outputs": [],
   "source": [
    "def get_sent_vector(vocab, tokenizer, model, seed_text):\n",
    "    model.to(device)\n",
    "    model.eval()\n",
    "    sent = clean(seed_text)\n",
    "\n",
    "    x = torch.tensor([[vocab[token] for token in tokenizer(sent)]], dtype=torch.long).to(device)\n",
    "    x = x.t()\n",
    "\n",
    "    _, state_h = model(x)\n",
    "    vec = torch.mean(state_h.squeeze(1), dim=0).cpu().detach().numpy()\n",
    "\n",
    "    return vec"
   ]
  },
  {
   "cell_type": "code",
   "execution_count": 137,
   "metadata": {},
   "outputs": [
    {
     "name": "stdout",
     "output_type": "stream",
     "text": [
      "torch.Size([4, 6, 512])\n",
      "torch.Size([6, 1024])\n"
     ]
    }
   ],
   "source": [
    "get_sent_vector(vocabulary, tokenizer, model, \"whatever works\")"
   ]
  },
  {
   "cell_type": "code",
   "execution_count": 73,
   "metadata": {},
   "outputs": [],
   "source": [
    "def cosine_similarity(vec_1, vec_2):\n",
    "    return vec_1@vec_2.T/(np.linalg.norm(vec_1) * np.linalg.norm(vec_2))"
   ]
  },
  {
   "cell_type": "code",
   "execution_count": 80,
   "metadata": {},
   "outputs": [],
   "source": [
    "def output_preds(sent_1, sent_2):\n",
    "    vec_1 = get_sent_vector(vocabulary, tokenizer, model, sent_1)\n",
    "    vec_2 = get_sent_vector(vocabulary, tokenizer, model, sent_2)\n",
    "    \n",
    "    return 5 * cosine_similarity(vec_1, vec_2)"
   ]
  },
  {
   "cell_type": "code",
   "execution_count": 81,
   "metadata": {},
   "outputs": [
    {
     "data": {
      "text/plain": [
       "0.8107129484415054"
      ]
     },
     "execution_count": 81,
     "metadata": {},
     "output_type": "execute_result"
    }
   ],
   "source": [
    "sent_1 = \"People wearing costumes are gathering in a forest and are looking in the same direction\"\n",
    "sent_2 = \"A little girl in costume looks like a woman\"\n",
    "output_preds(sent_1, sent_2)"
   ]
  },
  {
   "cell_type": "code",
   "execution_count": 86,
   "metadata": {},
   "outputs": [
    {
     "data": {
      "text/plain": [
       "1.072433516383171"
      ]
     },
     "execution_count": 86,
     "metadata": {},
     "output_type": "execute_result"
    }
   ],
   "source": [
    "sent_1 = \"To explain further vector space models, basically a document is characterized by a vector.\"\n",
    "sent_2 = \"A document is represented as a vector.\"\n",
    "output_preds(sent_1, sent_2)"
   ]
  },
  {
   "cell_type": "code",
   "execution_count": 106,
   "metadata": {},
   "outputs": [],
   "source": [
    "with open('data/test_data.pkl', 'rb') as f:\n",
    "    test_data = pickle.load(f)\n",
    "x_test = test_data['x']\n",
    "y_test = test_data['y']"
   ]
  },
  {
   "cell_type": "code",
   "execution_count": 108,
   "metadata": {},
   "outputs": [],
   "source": [
    "preds = []\n",
    "for dat in x_test:\n",
    "    preds.append(output_preds(dat[0], dat[1]))"
   ]
  },
  {
   "cell_type": "code",
   "execution_count": 109,
   "metadata": {},
   "outputs": [
    {
     "data": {
      "text/plain": [
       "0.38860042516420196"
      ]
     },
     "execution_count": 109,
     "metadata": {},
     "output_type": "execute_result"
    }
   ],
   "source": [
    "from scipy.stats import pearsonr\n",
    "pearson_score, _ = pearsonr(preds, y_test)\n",
    "pearson_score"
   ]
  }
 ],
 "metadata": {
  "interpreter": {
   "hash": "3c8b4332f17b55abe5b67c7fb84c98e7a77ec1afd164452ea9e618fbfab6a3af"
  },
  "kernelspec": {
   "display_name": "Python 3.9.12 ('pytorch')",
   "language": "python",
   "name": "python3"
  },
  "language_info": {
   "codemirror_mode": {
    "name": "ipython",
    "version": 3
   },
   "file_extension": ".py",
   "mimetype": "text/x-python",
   "name": "python",
   "nbconvert_exporter": "python",
   "pygments_lexer": "ipython3",
   "version": "3.9.12"
  },
  "orig_nbformat": 4
 },
 "nbformat": 4,
 "nbformat_minor": 2
}
